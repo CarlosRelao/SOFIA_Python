{
  "cells": [
    {
      "cell_type": "code",
      "execution_count": 1,
      "metadata": {
        "id": "x63bd8xLtFfR"
      },
      "outputs": [
        {
          "name": "stderr",
          "output_type": "stream",
          "text": [
            "2023-06-22 17:48:39.604153: W tensorflow/stream_executor/platform/default/dso_loader.cc:64] Could not load dynamic library 'libcudart.so.11.0'; dlerror: libcudart.so.11.0: cannot open shared object file: No such file or directory; LD_LIBRARY_PATH: /usr/lib/cuda/include:/usr/lib/cuda/lib64:/usr/local/lib/python3.10/dist-packages:\n",
            "2023-06-22 17:48:39.604167: I tensorflow/stream_executor/cuda/cudart_stub.cc:29] Ignore above cudart dlerror if you do not have a GPU set up on your machine.\n"
          ]
        }
      ],
      "source": [
        "import tensorflow as tf\n",
        "import numpy as np\n",
        "import pandas as pd\n",
        "import math\n",
        "import seaborn as sns\n",
        "from sklearn.utils import shuffle\n",
        "\n",
        "# ML\n",
        "from sklearn.neural_network import MLPRegressor\n",
        "from sklearn.model_selection import learning_curve\n",
        "from sklearn.model_selection import train_test_split\n",
        "from sklearn.metrics import mean_squared_error\n",
        "\n",
        "# 3D plots\n",
        "from mpl_toolkits.mplot3d import Axes3D\n",
        "import matplotlib.pyplot as plt\n",
        "\n",
        "\n",
        "from sklearn.utils import shuffle "
      ]
    },
    {
      "attachments": {},
      "cell_type": "markdown",
      "metadata": {
        "id": "Ri7lRSMe0xKM"
      },
      "source": [
        "## Generamos el código para poder pasarle un theta rectificado a la cinemática inversa"
      ]
    },
    {
      "cell_type": "code",
      "execution_count": 6,
      "metadata": {
        "colab": {
          "base_uri": "https://localhost:8080/",
          "height": 365
        },
        "id": "a_HdCLUSs92L",
        "outputId": "6746a019-3cb7-4da7-c6e0-af36482e907d"
      },
      "outputs": [
        {
          "ename": "FileNotFoundError",
          "evalue": "[Errno 2] No such file or directory: '/content/data_orient10_MASTER_3.csv'",
          "output_type": "error",
          "traceback": [
            "\u001b[0;31m---------------------------------------------------------------------------\u001b[0m",
            "\u001b[0;31mFileNotFoundError\u001b[0m                         Traceback (most recent call last)",
            "Cell \u001b[0;32mIn[6], line 1\u001b[0m\n\u001b[0;32m----> 1\u001b[0m df1_10 \u001b[39m=\u001b[39m pd\u001b[39m.\u001b[39;49mread_csv(\u001b[39m'\u001b[39;49m\u001b[39m/content/data_orient10_MASTER_3.csv\u001b[39;49m\u001b[39m'\u001b[39;49m) \u001b[39m#cinematica inversa\u001b[39;00m\n\u001b[1;32m      2\u001b[0m df2_10 \u001b[39m=\u001b[39m pd\u001b[39m.\u001b[39mread_csv(\u001b[39m'\u001b[39m\u001b[39m/content/data_orient10_MASTER_7.csv\u001b[39m\u001b[39m'\u001b[39m) \u001b[39m#cinematica inversa\u001b[39;00m\n\u001b[1;32m      3\u001b[0m df3_10 \u001b[39m=\u001b[39m pd\u001b[39m.\u001b[39mread_csv(\u001b[39m'\u001b[39m\u001b[39m/content/data_orient10_MASTER.csv\u001b[39m\u001b[39m'\u001b[39m) \u001b[39m#cinematica inversa\u001b[39;00m\n",
            "File \u001b[0;32m~/.local/lib/python3.10/site-packages/pandas/util/_decorators.py:311\u001b[0m, in \u001b[0;36mdeprecate_nonkeyword_arguments.<locals>.decorate.<locals>.wrapper\u001b[0;34m(*args, **kwargs)\u001b[0m\n\u001b[1;32m    305\u001b[0m \u001b[39mif\u001b[39;00m \u001b[39mlen\u001b[39m(args) \u001b[39m>\u001b[39m num_allow_args:\n\u001b[1;32m    306\u001b[0m     warnings\u001b[39m.\u001b[39mwarn(\n\u001b[1;32m    307\u001b[0m         msg\u001b[39m.\u001b[39mformat(arguments\u001b[39m=\u001b[39marguments),\n\u001b[1;32m    308\u001b[0m         \u001b[39mFutureWarning\u001b[39;00m,\n\u001b[1;32m    309\u001b[0m         stacklevel\u001b[39m=\u001b[39mstacklevel,\n\u001b[1;32m    310\u001b[0m     )\n\u001b[0;32m--> 311\u001b[0m \u001b[39mreturn\u001b[39;00m func(\u001b[39m*\u001b[39;49margs, \u001b[39m*\u001b[39;49m\u001b[39m*\u001b[39;49mkwargs)\n",
            "File \u001b[0;32m~/.local/lib/python3.10/site-packages/pandas/io/parsers/readers.py:680\u001b[0m, in \u001b[0;36mread_csv\u001b[0;34m(filepath_or_buffer, sep, delimiter, header, names, index_col, usecols, squeeze, prefix, mangle_dupe_cols, dtype, engine, converters, true_values, false_values, skipinitialspace, skiprows, skipfooter, nrows, na_values, keep_default_na, na_filter, verbose, skip_blank_lines, parse_dates, infer_datetime_format, keep_date_col, date_parser, dayfirst, cache_dates, iterator, chunksize, compression, thousands, decimal, lineterminator, quotechar, quoting, doublequote, escapechar, comment, encoding, encoding_errors, dialect, error_bad_lines, warn_bad_lines, on_bad_lines, delim_whitespace, low_memory, memory_map, float_precision, storage_options)\u001b[0m\n\u001b[1;32m    665\u001b[0m kwds_defaults \u001b[39m=\u001b[39m _refine_defaults_read(\n\u001b[1;32m    666\u001b[0m     dialect,\n\u001b[1;32m    667\u001b[0m     delimiter,\n\u001b[0;32m   (...)\u001b[0m\n\u001b[1;32m    676\u001b[0m     defaults\u001b[39m=\u001b[39m{\u001b[39m\"\u001b[39m\u001b[39mdelimiter\u001b[39m\u001b[39m\"\u001b[39m: \u001b[39m\"\u001b[39m\u001b[39m,\u001b[39m\u001b[39m\"\u001b[39m},\n\u001b[1;32m    677\u001b[0m )\n\u001b[1;32m    678\u001b[0m kwds\u001b[39m.\u001b[39mupdate(kwds_defaults)\n\u001b[0;32m--> 680\u001b[0m \u001b[39mreturn\u001b[39;00m _read(filepath_or_buffer, kwds)\n",
            "File \u001b[0;32m~/.local/lib/python3.10/site-packages/pandas/io/parsers/readers.py:575\u001b[0m, in \u001b[0;36m_read\u001b[0;34m(filepath_or_buffer, kwds)\u001b[0m\n\u001b[1;32m    572\u001b[0m _validate_names(kwds\u001b[39m.\u001b[39mget(\u001b[39m\"\u001b[39m\u001b[39mnames\u001b[39m\u001b[39m\"\u001b[39m, \u001b[39mNone\u001b[39;00m))\n\u001b[1;32m    574\u001b[0m \u001b[39m# Create the parser.\u001b[39;00m\n\u001b[0;32m--> 575\u001b[0m parser \u001b[39m=\u001b[39m TextFileReader(filepath_or_buffer, \u001b[39m*\u001b[39;49m\u001b[39m*\u001b[39;49mkwds)\n\u001b[1;32m    577\u001b[0m \u001b[39mif\u001b[39;00m chunksize \u001b[39mor\u001b[39;00m iterator:\n\u001b[1;32m    578\u001b[0m     \u001b[39mreturn\u001b[39;00m parser\n",
            "File \u001b[0;32m~/.local/lib/python3.10/site-packages/pandas/io/parsers/readers.py:933\u001b[0m, in \u001b[0;36mTextFileReader.__init__\u001b[0;34m(self, f, engine, **kwds)\u001b[0m\n\u001b[1;32m    930\u001b[0m     \u001b[39mself\u001b[39m\u001b[39m.\u001b[39moptions[\u001b[39m\"\u001b[39m\u001b[39mhas_index_names\u001b[39m\u001b[39m\"\u001b[39m] \u001b[39m=\u001b[39m kwds[\u001b[39m\"\u001b[39m\u001b[39mhas_index_names\u001b[39m\u001b[39m\"\u001b[39m]\n\u001b[1;32m    932\u001b[0m \u001b[39mself\u001b[39m\u001b[39m.\u001b[39mhandles: IOHandles \u001b[39m|\u001b[39m \u001b[39mNone\u001b[39;00m \u001b[39m=\u001b[39m \u001b[39mNone\u001b[39;00m\n\u001b[0;32m--> 933\u001b[0m \u001b[39mself\u001b[39m\u001b[39m.\u001b[39m_engine \u001b[39m=\u001b[39m \u001b[39mself\u001b[39;49m\u001b[39m.\u001b[39;49m_make_engine(f, \u001b[39mself\u001b[39;49m\u001b[39m.\u001b[39;49mengine)\n",
            "File \u001b[0;32m~/.local/lib/python3.10/site-packages/pandas/io/parsers/readers.py:1217\u001b[0m, in \u001b[0;36mTextFileReader._make_engine\u001b[0;34m(self, f, engine)\u001b[0m\n\u001b[1;32m   1213\u001b[0m     mode \u001b[39m=\u001b[39m \u001b[39m\"\u001b[39m\u001b[39mrb\u001b[39m\u001b[39m\"\u001b[39m\n\u001b[1;32m   1214\u001b[0m \u001b[39m# error: No overload variant of \"get_handle\" matches argument types\u001b[39;00m\n\u001b[1;32m   1215\u001b[0m \u001b[39m# \"Union[str, PathLike[str], ReadCsvBuffer[bytes], ReadCsvBuffer[str]]\"\u001b[39;00m\n\u001b[1;32m   1216\u001b[0m \u001b[39m# , \"str\", \"bool\", \"Any\", \"Any\", \"Any\", \"Any\", \"Any\"\u001b[39;00m\n\u001b[0;32m-> 1217\u001b[0m \u001b[39mself\u001b[39m\u001b[39m.\u001b[39mhandles \u001b[39m=\u001b[39m get_handle(  \u001b[39m# type: ignore[call-overload]\u001b[39;49;00m\n\u001b[1;32m   1218\u001b[0m     f,\n\u001b[1;32m   1219\u001b[0m     mode,\n\u001b[1;32m   1220\u001b[0m     encoding\u001b[39m=\u001b[39;49m\u001b[39mself\u001b[39;49m\u001b[39m.\u001b[39;49moptions\u001b[39m.\u001b[39;49mget(\u001b[39m\"\u001b[39;49m\u001b[39mencoding\u001b[39;49m\u001b[39m\"\u001b[39;49m, \u001b[39mNone\u001b[39;49;00m),\n\u001b[1;32m   1221\u001b[0m     compression\u001b[39m=\u001b[39;49m\u001b[39mself\u001b[39;49m\u001b[39m.\u001b[39;49moptions\u001b[39m.\u001b[39;49mget(\u001b[39m\"\u001b[39;49m\u001b[39mcompression\u001b[39;49m\u001b[39m\"\u001b[39;49m, \u001b[39mNone\u001b[39;49;00m),\n\u001b[1;32m   1222\u001b[0m     memory_map\u001b[39m=\u001b[39;49m\u001b[39mself\u001b[39;49m\u001b[39m.\u001b[39;49moptions\u001b[39m.\u001b[39;49mget(\u001b[39m\"\u001b[39;49m\u001b[39mmemory_map\u001b[39;49m\u001b[39m\"\u001b[39;49m, \u001b[39mFalse\u001b[39;49;00m),\n\u001b[1;32m   1223\u001b[0m     is_text\u001b[39m=\u001b[39;49mis_text,\n\u001b[1;32m   1224\u001b[0m     errors\u001b[39m=\u001b[39;49m\u001b[39mself\u001b[39;49m\u001b[39m.\u001b[39;49moptions\u001b[39m.\u001b[39;49mget(\u001b[39m\"\u001b[39;49m\u001b[39mencoding_errors\u001b[39;49m\u001b[39m\"\u001b[39;49m, \u001b[39m\"\u001b[39;49m\u001b[39mstrict\u001b[39;49m\u001b[39m\"\u001b[39;49m),\n\u001b[1;32m   1225\u001b[0m     storage_options\u001b[39m=\u001b[39;49m\u001b[39mself\u001b[39;49m\u001b[39m.\u001b[39;49moptions\u001b[39m.\u001b[39;49mget(\u001b[39m\"\u001b[39;49m\u001b[39mstorage_options\u001b[39;49m\u001b[39m\"\u001b[39;49m, \u001b[39mNone\u001b[39;49;00m),\n\u001b[1;32m   1226\u001b[0m )\n\u001b[1;32m   1227\u001b[0m \u001b[39massert\u001b[39;00m \u001b[39mself\u001b[39m\u001b[39m.\u001b[39mhandles \u001b[39mis\u001b[39;00m \u001b[39mnot\u001b[39;00m \u001b[39mNone\u001b[39;00m\n\u001b[1;32m   1228\u001b[0m f \u001b[39m=\u001b[39m \u001b[39mself\u001b[39m\u001b[39m.\u001b[39mhandles\u001b[39m.\u001b[39mhandle\n",
            "File \u001b[0;32m~/.local/lib/python3.10/site-packages/pandas/io/common.py:789\u001b[0m, in \u001b[0;36mget_handle\u001b[0;34m(path_or_buf, mode, encoding, compression, memory_map, is_text, errors, storage_options)\u001b[0m\n\u001b[1;32m    784\u001b[0m \u001b[39melif\u001b[39;00m \u001b[39misinstance\u001b[39m(handle, \u001b[39mstr\u001b[39m):\n\u001b[1;32m    785\u001b[0m     \u001b[39m# Check whether the filename is to be opened in binary mode.\u001b[39;00m\n\u001b[1;32m    786\u001b[0m     \u001b[39m# Binary mode does not support 'encoding' and 'newline'.\u001b[39;00m\n\u001b[1;32m    787\u001b[0m     \u001b[39mif\u001b[39;00m ioargs\u001b[39m.\u001b[39mencoding \u001b[39mand\u001b[39;00m \u001b[39m\"\u001b[39m\u001b[39mb\u001b[39m\u001b[39m\"\u001b[39m \u001b[39mnot\u001b[39;00m \u001b[39min\u001b[39;00m ioargs\u001b[39m.\u001b[39mmode:\n\u001b[1;32m    788\u001b[0m         \u001b[39m# Encoding\u001b[39;00m\n\u001b[0;32m--> 789\u001b[0m         handle \u001b[39m=\u001b[39m \u001b[39mopen\u001b[39;49m(\n\u001b[1;32m    790\u001b[0m             handle,\n\u001b[1;32m    791\u001b[0m             ioargs\u001b[39m.\u001b[39;49mmode,\n\u001b[1;32m    792\u001b[0m             encoding\u001b[39m=\u001b[39;49mioargs\u001b[39m.\u001b[39;49mencoding,\n\u001b[1;32m    793\u001b[0m             errors\u001b[39m=\u001b[39;49merrors,\n\u001b[1;32m    794\u001b[0m             newline\u001b[39m=\u001b[39;49m\u001b[39m\"\u001b[39;49m\u001b[39m\"\u001b[39;49m,\n\u001b[1;32m    795\u001b[0m         )\n\u001b[1;32m    796\u001b[0m     \u001b[39melse\u001b[39;00m:\n\u001b[1;32m    797\u001b[0m         \u001b[39m# Binary mode\u001b[39;00m\n\u001b[1;32m    798\u001b[0m         handle \u001b[39m=\u001b[39m \u001b[39mopen\u001b[39m(handle, ioargs\u001b[39m.\u001b[39mmode)\n",
            "\u001b[0;31mFileNotFoundError\u001b[0m: [Errno 2] No such file or directory: '/content/data_orient10_MASTER_3.csv'"
          ]
        }
      ],
      "source": [
        "df1_10 = pd.read_csv('/content/data_orient10_MASTER_3.csv') #cinematica inversa\n",
        "df2_10 = pd.read_csv('/content/data_orient10_MASTER_7.csv') #cinematica inversa\n",
        "df3_10 = pd.read_csv('/content/data_orient10_MASTER.csv') #cinematica inversa\n",
        "df4_10 = pd.read_csv('/content/data_orient10_MASTER_17.csv') #cinematica inversa"
      ]
    },
    {
      "cell_type": "code",
      "execution_count": 7,
      "metadata": {
        "id": "tAbKJDfE6chB"
      },
      "outputs": [],
      "source": [
        "df = pd.DataFrame() # Hacemos un dataframe para meter los valores de inclinacion y orientacion teoricos"
      ]
    },
    {
      "cell_type": "code",
      "execution_count": 9,
      "metadata": {
        "id": "7vlsXr67t-0M"
      },
      "outputs": [],
      "source": [
        "def preprocessColumnsIK(df_10):\n",
        "  df = pd.DataFrame() ## Hacemos un dataframe para meter los valores de inclinacion y orientacion teoricos\n",
        "\n",
        "  col_incli = ['I']\n",
        "  col_orient = ['O']\n",
        "  incli = []\n",
        "  orient = []\n",
        "\n",
        "  for i in range(5,36,5):\n",
        "    for o in range(5,361,10):\n",
        "      for repeat in range(100):\n",
        "        incli.append(i)\n",
        "        orient.append(o)\n",
        "\n",
        "  #Convert the inclination and orientation to a df\n",
        "  df['I'] = incli\n",
        "  df['O'] = orient\n",
        "\n",
        "  # Añadimos columnas a df renombradas \n",
        "  df['Inclination_sensor'] = df_10['Inclination']\n",
        "  df['Orientation_sensor'] = df_10['Orientation'] \n",
        "\n",
        "  df['M1_IK']= df_10['M1'] \n",
        "  df['M2_IK']= df_10['M2'] \n",
        "  df['M3_IK']= df_10['M3'] \n",
        "\n",
        "  # Añadir errorres\n",
        "  df['I_error'] = df['I'] - df['Inclination_sensor']\n",
        "  df['O_error'] = df['O'] - df['Orientation_sensor']\n",
        "\n",
        "  df['I_rectified'] = df['I'] + df['I_error']\n",
        "  df['O_rectified'] = df['O'] + df['O_error']\n",
        "\n",
        "  return df\n"
      ]
    },
    {
      "cell_type": "code",
      "execution_count": 10,
      "metadata": {
        "colab": {
          "base_uri": "https://localhost:8080/",
          "height": 424
        },
        "id": "upEbbK46VB8u",
        "outputId": "97dff4de-1ae6-4181-f055-48192c968ac4"
      },
      "outputs": [
        {
          "ename": "NameError",
          "evalue": "name 'df1_10' is not defined",
          "output_type": "error",
          "traceback": [
            "\u001b[0;31m---------------------------------------------------------------------------\u001b[0m",
            "\u001b[0;31mNameError\u001b[0m                                 Traceback (most recent call last)",
            "Cell \u001b[0;32mIn[10], line 1\u001b[0m\n\u001b[0;32m----> 1\u001b[0m preprocessColumnsIK(df1_10)\n",
            "\u001b[0;31mNameError\u001b[0m: name 'df1_10' is not defined"
          ]
        }
      ],
      "source": [
        "preprocessColumnsIK(df1_10)"
      ]
    },
    {
      "cell_type": "code",
      "execution_count": 13,
      "metadata": {
        "id": "Yf4zQHTi7yGT"
      },
      "outputs": [],
      "source": [
        "df.to_csv('data_rectified__thetasIKMASTER_V1.csv')"
      ]
    },
    {
      "attachments": {},
      "cell_type": "markdown",
      "metadata": {
        "id": "pQlkia_m06N3"
      },
      "source": [
        "## Con ayuda de las columnas I y O rectified, obtenemos un theta rectificado"
      ]
    },
    {
      "cell_type": "code",
      "execution_count": 15,
      "metadata": {
        "id": "sHPt9zl81AvK"
      },
      "outputs": [
        {
          "ename": "FileNotFoundError",
          "evalue": "[Errno 2] No such file or directory: 'data_rectified_thetasIK_MASTER_V1.csv.csv'",
          "output_type": "error",
          "traceback": [
            "\u001b[0;31m---------------------------------------------------------------------------\u001b[0m",
            "\u001b[0;31mFileNotFoundError\u001b[0m                         Traceback (most recent call last)",
            "Cell \u001b[0;32mIn[15], line 1\u001b[0m\n\u001b[0;32m----> 1\u001b[0m df_theta_rectified \u001b[39m=\u001b[39m pd\u001b[39m.\u001b[39;49mread_csv(\u001b[39m'\u001b[39;49m\u001b[39mdata_rectified_thetasIK_MASTER_V1.csv.csv\u001b[39;49m\u001b[39m'\u001b[39;49m)\n",
            "File \u001b[0;32m~/.local/lib/python3.10/site-packages/pandas/util/_decorators.py:311\u001b[0m, in \u001b[0;36mdeprecate_nonkeyword_arguments.<locals>.decorate.<locals>.wrapper\u001b[0;34m(*args, **kwargs)\u001b[0m\n\u001b[1;32m    305\u001b[0m \u001b[39mif\u001b[39;00m \u001b[39mlen\u001b[39m(args) \u001b[39m>\u001b[39m num_allow_args:\n\u001b[1;32m    306\u001b[0m     warnings\u001b[39m.\u001b[39mwarn(\n\u001b[1;32m    307\u001b[0m         msg\u001b[39m.\u001b[39mformat(arguments\u001b[39m=\u001b[39marguments),\n\u001b[1;32m    308\u001b[0m         \u001b[39mFutureWarning\u001b[39;00m,\n\u001b[1;32m    309\u001b[0m         stacklevel\u001b[39m=\u001b[39mstacklevel,\n\u001b[1;32m    310\u001b[0m     )\n\u001b[0;32m--> 311\u001b[0m \u001b[39mreturn\u001b[39;00m func(\u001b[39m*\u001b[39;49margs, \u001b[39m*\u001b[39;49m\u001b[39m*\u001b[39;49mkwargs)\n",
            "File \u001b[0;32m~/.local/lib/python3.10/site-packages/pandas/io/parsers/readers.py:680\u001b[0m, in \u001b[0;36mread_csv\u001b[0;34m(filepath_or_buffer, sep, delimiter, header, names, index_col, usecols, squeeze, prefix, mangle_dupe_cols, dtype, engine, converters, true_values, false_values, skipinitialspace, skiprows, skipfooter, nrows, na_values, keep_default_na, na_filter, verbose, skip_blank_lines, parse_dates, infer_datetime_format, keep_date_col, date_parser, dayfirst, cache_dates, iterator, chunksize, compression, thousands, decimal, lineterminator, quotechar, quoting, doublequote, escapechar, comment, encoding, encoding_errors, dialect, error_bad_lines, warn_bad_lines, on_bad_lines, delim_whitespace, low_memory, memory_map, float_precision, storage_options)\u001b[0m\n\u001b[1;32m    665\u001b[0m kwds_defaults \u001b[39m=\u001b[39m _refine_defaults_read(\n\u001b[1;32m    666\u001b[0m     dialect,\n\u001b[1;32m    667\u001b[0m     delimiter,\n\u001b[0;32m   (...)\u001b[0m\n\u001b[1;32m    676\u001b[0m     defaults\u001b[39m=\u001b[39m{\u001b[39m\"\u001b[39m\u001b[39mdelimiter\u001b[39m\u001b[39m\"\u001b[39m: \u001b[39m\"\u001b[39m\u001b[39m,\u001b[39m\u001b[39m\"\u001b[39m},\n\u001b[1;32m    677\u001b[0m )\n\u001b[1;32m    678\u001b[0m kwds\u001b[39m.\u001b[39mupdate(kwds_defaults)\n\u001b[0;32m--> 680\u001b[0m \u001b[39mreturn\u001b[39;00m _read(filepath_or_buffer, kwds)\n",
            "File \u001b[0;32m~/.local/lib/python3.10/site-packages/pandas/io/parsers/readers.py:575\u001b[0m, in \u001b[0;36m_read\u001b[0;34m(filepath_or_buffer, kwds)\u001b[0m\n\u001b[1;32m    572\u001b[0m _validate_names(kwds\u001b[39m.\u001b[39mget(\u001b[39m\"\u001b[39m\u001b[39mnames\u001b[39m\u001b[39m\"\u001b[39m, \u001b[39mNone\u001b[39;00m))\n\u001b[1;32m    574\u001b[0m \u001b[39m# Create the parser.\u001b[39;00m\n\u001b[0;32m--> 575\u001b[0m parser \u001b[39m=\u001b[39m TextFileReader(filepath_or_buffer, \u001b[39m*\u001b[39;49m\u001b[39m*\u001b[39;49mkwds)\n\u001b[1;32m    577\u001b[0m \u001b[39mif\u001b[39;00m chunksize \u001b[39mor\u001b[39;00m iterator:\n\u001b[1;32m    578\u001b[0m     \u001b[39mreturn\u001b[39;00m parser\n",
            "File \u001b[0;32m~/.local/lib/python3.10/site-packages/pandas/io/parsers/readers.py:933\u001b[0m, in \u001b[0;36mTextFileReader.__init__\u001b[0;34m(self, f, engine, **kwds)\u001b[0m\n\u001b[1;32m    930\u001b[0m     \u001b[39mself\u001b[39m\u001b[39m.\u001b[39moptions[\u001b[39m\"\u001b[39m\u001b[39mhas_index_names\u001b[39m\u001b[39m\"\u001b[39m] \u001b[39m=\u001b[39m kwds[\u001b[39m\"\u001b[39m\u001b[39mhas_index_names\u001b[39m\u001b[39m\"\u001b[39m]\n\u001b[1;32m    932\u001b[0m \u001b[39mself\u001b[39m\u001b[39m.\u001b[39mhandles: IOHandles \u001b[39m|\u001b[39m \u001b[39mNone\u001b[39;00m \u001b[39m=\u001b[39m \u001b[39mNone\u001b[39;00m\n\u001b[0;32m--> 933\u001b[0m \u001b[39mself\u001b[39m\u001b[39m.\u001b[39m_engine \u001b[39m=\u001b[39m \u001b[39mself\u001b[39;49m\u001b[39m.\u001b[39;49m_make_engine(f, \u001b[39mself\u001b[39;49m\u001b[39m.\u001b[39;49mengine)\n",
            "File \u001b[0;32m~/.local/lib/python3.10/site-packages/pandas/io/parsers/readers.py:1217\u001b[0m, in \u001b[0;36mTextFileReader._make_engine\u001b[0;34m(self, f, engine)\u001b[0m\n\u001b[1;32m   1213\u001b[0m     mode \u001b[39m=\u001b[39m \u001b[39m\"\u001b[39m\u001b[39mrb\u001b[39m\u001b[39m\"\u001b[39m\n\u001b[1;32m   1214\u001b[0m \u001b[39m# error: No overload variant of \"get_handle\" matches argument types\u001b[39;00m\n\u001b[1;32m   1215\u001b[0m \u001b[39m# \"Union[str, PathLike[str], ReadCsvBuffer[bytes], ReadCsvBuffer[str]]\"\u001b[39;00m\n\u001b[1;32m   1216\u001b[0m \u001b[39m# , \"str\", \"bool\", \"Any\", \"Any\", \"Any\", \"Any\", \"Any\"\u001b[39;00m\n\u001b[0;32m-> 1217\u001b[0m \u001b[39mself\u001b[39m\u001b[39m.\u001b[39mhandles \u001b[39m=\u001b[39m get_handle(  \u001b[39m# type: ignore[call-overload]\u001b[39;49;00m\n\u001b[1;32m   1218\u001b[0m     f,\n\u001b[1;32m   1219\u001b[0m     mode,\n\u001b[1;32m   1220\u001b[0m     encoding\u001b[39m=\u001b[39;49m\u001b[39mself\u001b[39;49m\u001b[39m.\u001b[39;49moptions\u001b[39m.\u001b[39;49mget(\u001b[39m\"\u001b[39;49m\u001b[39mencoding\u001b[39;49m\u001b[39m\"\u001b[39;49m, \u001b[39mNone\u001b[39;49;00m),\n\u001b[1;32m   1221\u001b[0m     compression\u001b[39m=\u001b[39;49m\u001b[39mself\u001b[39;49m\u001b[39m.\u001b[39;49moptions\u001b[39m.\u001b[39;49mget(\u001b[39m\"\u001b[39;49m\u001b[39mcompression\u001b[39;49m\u001b[39m\"\u001b[39;49m, \u001b[39mNone\u001b[39;49;00m),\n\u001b[1;32m   1222\u001b[0m     memory_map\u001b[39m=\u001b[39;49m\u001b[39mself\u001b[39;49m\u001b[39m.\u001b[39;49moptions\u001b[39m.\u001b[39;49mget(\u001b[39m\"\u001b[39;49m\u001b[39mmemory_map\u001b[39;49m\u001b[39m\"\u001b[39;49m, \u001b[39mFalse\u001b[39;49;00m),\n\u001b[1;32m   1223\u001b[0m     is_text\u001b[39m=\u001b[39;49mis_text,\n\u001b[1;32m   1224\u001b[0m     errors\u001b[39m=\u001b[39;49m\u001b[39mself\u001b[39;49m\u001b[39m.\u001b[39;49moptions\u001b[39m.\u001b[39;49mget(\u001b[39m\"\u001b[39;49m\u001b[39mencoding_errors\u001b[39;49m\u001b[39m\"\u001b[39;49m, \u001b[39m\"\u001b[39;49m\u001b[39mstrict\u001b[39;49m\u001b[39m\"\u001b[39;49m),\n\u001b[1;32m   1225\u001b[0m     storage_options\u001b[39m=\u001b[39;49m\u001b[39mself\u001b[39;49m\u001b[39m.\u001b[39;49moptions\u001b[39m.\u001b[39;49mget(\u001b[39m\"\u001b[39;49m\u001b[39mstorage_options\u001b[39;49m\u001b[39m\"\u001b[39;49m, \u001b[39mNone\u001b[39;49;00m),\n\u001b[1;32m   1226\u001b[0m )\n\u001b[1;32m   1227\u001b[0m \u001b[39massert\u001b[39;00m \u001b[39mself\u001b[39m\u001b[39m.\u001b[39mhandles \u001b[39mis\u001b[39;00m \u001b[39mnot\u001b[39;00m \u001b[39mNone\u001b[39;00m\n\u001b[1;32m   1228\u001b[0m f \u001b[39m=\u001b[39m \u001b[39mself\u001b[39m\u001b[39m.\u001b[39mhandles\u001b[39m.\u001b[39mhandle\n",
            "File \u001b[0;32m~/.local/lib/python3.10/site-packages/pandas/io/common.py:789\u001b[0m, in \u001b[0;36mget_handle\u001b[0;34m(path_or_buf, mode, encoding, compression, memory_map, is_text, errors, storage_options)\u001b[0m\n\u001b[1;32m    784\u001b[0m \u001b[39melif\u001b[39;00m \u001b[39misinstance\u001b[39m(handle, \u001b[39mstr\u001b[39m):\n\u001b[1;32m    785\u001b[0m     \u001b[39m# Check whether the filename is to be opened in binary mode.\u001b[39;00m\n\u001b[1;32m    786\u001b[0m     \u001b[39m# Binary mode does not support 'encoding' and 'newline'.\u001b[39;00m\n\u001b[1;32m    787\u001b[0m     \u001b[39mif\u001b[39;00m ioargs\u001b[39m.\u001b[39mencoding \u001b[39mand\u001b[39;00m \u001b[39m\"\u001b[39m\u001b[39mb\u001b[39m\u001b[39m\"\u001b[39m \u001b[39mnot\u001b[39;00m \u001b[39min\u001b[39;00m ioargs\u001b[39m.\u001b[39mmode:\n\u001b[1;32m    788\u001b[0m         \u001b[39m# Encoding\u001b[39;00m\n\u001b[0;32m--> 789\u001b[0m         handle \u001b[39m=\u001b[39m \u001b[39mopen\u001b[39;49m(\n\u001b[1;32m    790\u001b[0m             handle,\n\u001b[1;32m    791\u001b[0m             ioargs\u001b[39m.\u001b[39;49mmode,\n\u001b[1;32m    792\u001b[0m             encoding\u001b[39m=\u001b[39;49mioargs\u001b[39m.\u001b[39;49mencoding,\n\u001b[1;32m    793\u001b[0m             errors\u001b[39m=\u001b[39;49merrors,\n\u001b[1;32m    794\u001b[0m             newline\u001b[39m=\u001b[39;49m\u001b[39m\"\u001b[39;49m\u001b[39m\"\u001b[39;49m,\n\u001b[1;32m    795\u001b[0m         )\n\u001b[1;32m    796\u001b[0m     \u001b[39melse\u001b[39;00m:\n\u001b[1;32m    797\u001b[0m         \u001b[39m# Binary mode\u001b[39;00m\n\u001b[1;32m    798\u001b[0m         handle \u001b[39m=\u001b[39m \u001b[39mopen\u001b[39m(handle, ioargs\u001b[39m.\u001b[39mmode)\n",
            "\u001b[0;31mFileNotFoundError\u001b[0m: [Errno 2] No such file or directory: 'data_rectified_thetasIK_MASTER_V1.csv.csv'"
          ]
        }
      ],
      "source": [
        "df_theta_rectified = pd.read_csv('data_rectified_thetasIK_MASTER_V1.csv.csv')"
      ]
    },
    {
      "cell_type": "code",
      "execution_count": null,
      "metadata": {
        "colab": {
          "base_uri": "https://localhost:8080/",
          "height": 424
        },
        "id": "eux1bt6g1KgE",
        "outputId": "9959c5ba-6ee6-4f5a-939b-964a87f48c3a"
      },
      "outputs": [
        {
          "data": {
            "text/html": [
              "\n",
              "  <div id=\"df-d5a2bb16-3eca-4948-82b6-3d8b22108a9a\">\n",
              "    <div class=\"colab-df-container\">\n",
              "      <div>\n",
              "<style scoped>\n",
              "    .dataframe tbody tr th:only-of-type {\n",
              "        vertical-align: middle;\n",
              "    }\n",
              "\n",
              "    .dataframe tbody tr th {\n",
              "        vertical-align: top;\n",
              "    }\n",
              "\n",
              "    .dataframe thead th {\n",
              "        text-align: right;\n",
              "    }\n",
              "</style>\n",
              "<table border=\"1\" class=\"dataframe\">\n",
              "  <thead>\n",
              "    <tr style=\"text-align: right;\">\n",
              "      <th></th>\n",
              "      <th>M1_R</th>\n",
              "      <th>M2_R</th>\n",
              "      <th>M3_R</th>\n",
              "    </tr>\n",
              "  </thead>\n",
              "  <tbody>\n",
              "    <tr>\n",
              "      <th>0</th>\n",
              "      <td>-4.872094</td>\n",
              "      <td>3.538265</td>\n",
              "      <td>4.384941</td>\n",
              "    </tr>\n",
              "    <tr>\n",
              "      <th>1</th>\n",
              "      <td>-2.511202</td>\n",
              "      <td>1.391536</td>\n",
              "      <td>1.740594</td>\n",
              "    </tr>\n",
              "    <tr>\n",
              "      <th>2</th>\n",
              "      <td>-0.501772</td>\n",
              "      <td>0.226344</td>\n",
              "      <td>0.296985</td>\n",
              "    </tr>\n",
              "    <tr>\n",
              "      <th>3</th>\n",
              "      <td>0.747953</td>\n",
              "      <td>-0.245522</td>\n",
              "      <td>-0.456786</td>\n",
              "    </tr>\n",
              "    <tr>\n",
              "      <th>4</th>\n",
              "      <td>-0.938727</td>\n",
              "      <td>0.497145</td>\n",
              "      <td>0.518574</td>\n",
              "    </tr>\n",
              "    <tr>\n",
              "      <th>...</th>\n",
              "      <td>...</td>\n",
              "      <td>...</td>\n",
              "      <td>...</td>\n",
              "    </tr>\n",
              "    <tr>\n",
              "      <th>25195</th>\n",
              "      <td>-4.261791</td>\n",
              "      <td>3.467463</td>\n",
              "      <td>2.926943</td>\n",
              "    </tr>\n",
              "    <tr>\n",
              "      <th>25196</th>\n",
              "      <td>-4.252734</td>\n",
              "      <td>3.452903</td>\n",
              "      <td>2.920653</td>\n",
              "    </tr>\n",
              "    <tr>\n",
              "      <th>25197</th>\n",
              "      <td>-4.255493</td>\n",
              "      <td>3.454180</td>\n",
              "      <td>2.925450</td>\n",
              "    </tr>\n",
              "    <tr>\n",
              "      <th>25198</th>\n",
              "      <td>-4.252447</td>\n",
              "      <td>3.462273</td>\n",
              "      <td>2.911483</td>\n",
              "    </tr>\n",
              "    <tr>\n",
              "      <th>25199</th>\n",
              "      <td>-4.258596</td>\n",
              "      <td>3.485813</td>\n",
              "      <td>2.903357</td>\n",
              "    </tr>\n",
              "  </tbody>\n",
              "</table>\n",
              "<p>25200 rows × 3 columns</p>\n",
              "</div>\n",
              "      <button class=\"colab-df-convert\" onclick=\"convertToInteractive('df-d5a2bb16-3eca-4948-82b6-3d8b22108a9a')\"\n",
              "              title=\"Convert this dataframe to an interactive table.\"\n",
              "              style=\"display:none;\">\n",
              "        \n",
              "  <svg xmlns=\"http://www.w3.org/2000/svg\" height=\"24px\"viewBox=\"0 0 24 24\"\n",
              "       width=\"24px\">\n",
              "    <path d=\"M0 0h24v24H0V0z\" fill=\"none\"/>\n",
              "    <path d=\"M18.56 5.44l.94 2.06.94-2.06 2.06-.94-2.06-.94-.94-2.06-.94 2.06-2.06.94zm-11 1L8.5 8.5l.94-2.06 2.06-.94-2.06-.94L8.5 2.5l-.94 2.06-2.06.94zm10 10l.94 2.06.94-2.06 2.06-.94-2.06-.94-.94-2.06-.94 2.06-2.06.94z\"/><path d=\"M17.41 7.96l-1.37-1.37c-.4-.4-.92-.59-1.43-.59-.52 0-1.04.2-1.43.59L10.3 9.45l-7.72 7.72c-.78.78-.78 2.05 0 2.83L4 21.41c.39.39.9.59 1.41.59.51 0 1.02-.2 1.41-.59l7.78-7.78 2.81-2.81c.8-.78.8-2.07 0-2.86zM5.41 20L4 18.59l7.72-7.72 1.47 1.35L5.41 20z\"/>\n",
              "  </svg>\n",
              "      </button>\n",
              "      \n",
              "  <style>\n",
              "    .colab-df-container {\n",
              "      display:flex;\n",
              "      flex-wrap:wrap;\n",
              "      gap: 12px;\n",
              "    }\n",
              "\n",
              "    .colab-df-convert {\n",
              "      background-color: #E8F0FE;\n",
              "      border: none;\n",
              "      border-radius: 50%;\n",
              "      cursor: pointer;\n",
              "      display: none;\n",
              "      fill: #1967D2;\n",
              "      height: 32px;\n",
              "      padding: 0 0 0 0;\n",
              "      width: 32px;\n",
              "    }\n",
              "\n",
              "    .colab-df-convert:hover {\n",
              "      background-color: #E2EBFA;\n",
              "      box-shadow: 0px 1px 2px rgba(60, 64, 67, 0.3), 0px 1px 3px 1px rgba(60, 64, 67, 0.15);\n",
              "      fill: #174EA6;\n",
              "    }\n",
              "\n",
              "    [theme=dark] .colab-df-convert {\n",
              "      background-color: #3B4455;\n",
              "      fill: #D2E3FC;\n",
              "    }\n",
              "\n",
              "    [theme=dark] .colab-df-convert:hover {\n",
              "      background-color: #434B5C;\n",
              "      box-shadow: 0px 1px 3px 1px rgba(0, 0, 0, 0.15);\n",
              "      filter: drop-shadow(0px 1px 2px rgba(0, 0, 0, 0.3));\n",
              "      fill: #FFFFFF;\n",
              "    }\n",
              "  </style>\n",
              "\n",
              "      <script>\n",
              "        const buttonEl =\n",
              "          document.querySelector('#df-d5a2bb16-3eca-4948-82b6-3d8b22108a9a button.colab-df-convert');\n",
              "        buttonEl.style.display =\n",
              "          google.colab.kernel.accessAllowed ? 'block' : 'none';\n",
              "\n",
              "        async function convertToInteractive(key) {\n",
              "          const element = document.querySelector('#df-d5a2bb16-3eca-4948-82b6-3d8b22108a9a');\n",
              "          const dataTable =\n",
              "            await google.colab.kernel.invokeFunction('convertToInteractive',\n",
              "                                                     [key], {});\n",
              "          if (!dataTable) return;\n",
              "\n",
              "          const docLinkHtml = 'Like what you see? Visit the ' +\n",
              "            '<a target=\"_blank\" href=https://colab.research.google.com/notebooks/data_table.ipynb>data table notebook</a>'\n",
              "            + ' to learn more about interactive tables.';\n",
              "          element.innerHTML = '';\n",
              "          dataTable['output_type'] = 'display_data';\n",
              "          await google.colab.output.renderOutput(dataTable, element);\n",
              "          const docLink = document.createElement('div');\n",
              "          docLink.innerHTML = docLinkHtml;\n",
              "          element.appendChild(docLink);\n",
              "        }\n",
              "      </script>\n",
              "    </div>\n",
              "  </div>\n",
              "  "
            ],
            "text/plain": [
              "           M1_R      M2_R      M3_R\n",
              "0     -4.872094  3.538265  4.384941\n",
              "1     -2.511202  1.391536  1.740594\n",
              "2     -0.501772  0.226344  0.296985\n",
              "3      0.747953 -0.245522 -0.456786\n",
              "4     -0.938727  0.497145  0.518574\n",
              "...         ...       ...       ...\n",
              "25195 -4.261791  3.467463  2.926943\n",
              "25196 -4.252734  3.452903  2.920653\n",
              "25197 -4.255493  3.454180  2.925450\n",
              "25198 -4.252447  3.462273  2.911483\n",
              "25199 -4.258596  3.485813  2.903357\n",
              "\n",
              "[25200 rows x 3 columns]"
            ]
          },
          "execution_count": 18,
          "metadata": {},
          "output_type": "execute_result"
        }
      ],
      "source": [
        "df_theta_rectified"
      ]
    },
    {
      "cell_type": "code",
      "execution_count": null,
      "metadata": {
        "id": "oabMTNAN1eL6"
      },
      "outputs": [],
      "source": [
        "\n",
        "data_error_theta = pd.DataFrame()\n"
      ]
    },
    {
      "cell_type": "code",
      "execution_count": null,
      "metadata": {
        "id": "caoHii571oQM"
      },
      "outputs": [],
      "source": [
        "data_error_theta = pd.concat([df[['M1_IK','M2_IK','M3_IK']], df_theta_rectified], axis=1)"
      ]
    },
    {
      "cell_type": "code",
      "execution_count": null,
      "metadata": {
        "id": "EBzjthiC2sia"
      },
      "outputs": [],
      "source": [
        "data_error_theta['M1_error'] = data_error_theta['M1_IK'] - data_error_theta['M1_R']\n",
        "data_error_theta['M2_error'] = data_error_theta['M2_IK'] - data_error_theta['M2_R']\n",
        "data_error_theta['M3_error'] = data_error_theta['M3_IK'] - data_error_theta['M3_R']"
      ]
    },
    {
      "cell_type": "code",
      "execution_count": null,
      "metadata": {
        "colab": {
          "base_uri": "https://localhost:8080/",
          "height": 424
        },
        "id": "Obe40tRG3Nec",
        "outputId": "e1379978-5ce6-487e-da3b-a7629f96fc90"
      },
      "outputs": [
        {
          "data": {
            "text/html": [
              "\n",
              "  <div id=\"df-c3cfec82-434c-4b01-8aab-c6b85e9803db\">\n",
              "    <div class=\"colab-df-container\">\n",
              "      <div>\n",
              "<style scoped>\n",
              "    .dataframe tbody tr th:only-of-type {\n",
              "        vertical-align: middle;\n",
              "    }\n",
              "\n",
              "    .dataframe tbody tr th {\n",
              "        vertical-align: top;\n",
              "    }\n",
              "\n",
              "    .dataframe thead th {\n",
              "        text-align: right;\n",
              "    }\n",
              "</style>\n",
              "<table border=\"1\" class=\"dataframe\">\n",
              "  <thead>\n",
              "    <tr style=\"text-align: right;\">\n",
              "      <th></th>\n",
              "      <th>M1_IK</th>\n",
              "      <th>M2_IK</th>\n",
              "      <th>M3_IK</th>\n",
              "      <th>M1_R</th>\n",
              "      <th>M2_R</th>\n",
              "      <th>M3_R</th>\n",
              "      <th>M1_error</th>\n",
              "      <th>M2_error</th>\n",
              "      <th>M3_error</th>\n",
              "    </tr>\n",
              "  </thead>\n",
              "  <tbody>\n",
              "    <tr>\n",
              "      <th>0</th>\n",
              "      <td>-0.004218</td>\n",
              "      <td>0.010610</td>\n",
              "      <td>0.006264</td>\n",
              "      <td>-4.872094</td>\n",
              "      <td>3.538265</td>\n",
              "      <td>4.384941</td>\n",
              "      <td>4.867876</td>\n",
              "      <td>-3.527655</td>\n",
              "      <td>-4.378677</td>\n",
              "    </tr>\n",
              "    <tr>\n",
              "      <th>1</th>\n",
              "      <td>-0.036304</td>\n",
              "      <td>0.040139</td>\n",
              "      <td>0.035921</td>\n",
              "      <td>-2.511202</td>\n",
              "      <td>1.391536</td>\n",
              "      <td>1.740594</td>\n",
              "      <td>2.474898</td>\n",
              "      <td>-1.351397</td>\n",
              "      <td>-1.704673</td>\n",
              "    </tr>\n",
              "    <tr>\n",
              "      <th>2</th>\n",
              "      <td>-0.085392</td>\n",
              "      <td>0.087309</td>\n",
              "      <td>0.084880</td>\n",
              "      <td>-0.501772</td>\n",
              "      <td>0.226344</td>\n",
              "      <td>0.296985</td>\n",
              "      <td>0.416380</td>\n",
              "      <td>-0.139034</td>\n",
              "      <td>-0.212104</td>\n",
              "    </tr>\n",
              "    <tr>\n",
              "      <th>3</th>\n",
              "      <td>-0.152248</td>\n",
              "      <td>0.153526</td>\n",
              "      <td>0.148924</td>\n",
              "      <td>0.747953</td>\n",
              "      <td>-0.245522</td>\n",
              "      <td>-0.456786</td>\n",
              "      <td>-0.900201</td>\n",
              "      <td>0.399048</td>\n",
              "      <td>0.605710</td>\n",
              "    </tr>\n",
              "    <tr>\n",
              "      <th>4</th>\n",
              "      <td>-0.239557</td>\n",
              "      <td>0.212584</td>\n",
              "      <td>0.229458</td>\n",
              "      <td>-0.938727</td>\n",
              "      <td>0.497145</td>\n",
              "      <td>0.518574</td>\n",
              "      <td>0.699170</td>\n",
              "      <td>-0.284560</td>\n",
              "      <td>-0.289116</td>\n",
              "    </tr>\n",
              "    <tr>\n",
              "      <th>...</th>\n",
              "      <td>...</td>\n",
              "      <td>...</td>\n",
              "      <td>...</td>\n",
              "      <td>...</td>\n",
              "      <td>...</td>\n",
              "      <td>...</td>\n",
              "      <td>...</td>\n",
              "      <td>...</td>\n",
              "      <td>...</td>\n",
              "    </tr>\n",
              "    <tr>\n",
              "      <th>25195</th>\n",
              "      <td>-3.655860</td>\n",
              "      <td>2.881327</td>\n",
              "      <td>2.252779</td>\n",
              "      <td>-4.261791</td>\n",
              "      <td>3.467463</td>\n",
              "      <td>2.926943</td>\n",
              "      <td>0.605931</td>\n",
              "      <td>-0.586136</td>\n",
              "      <td>-0.674164</td>\n",
              "    </tr>\n",
              "    <tr>\n",
              "      <th>25196</th>\n",
              "      <td>-3.658544</td>\n",
              "      <td>2.881327</td>\n",
              "      <td>2.246004</td>\n",
              "      <td>-4.252734</td>\n",
              "      <td>3.452903</td>\n",
              "      <td>2.920653</td>\n",
              "      <td>0.594190</td>\n",
              "      <td>-0.571575</td>\n",
              "      <td>-0.674649</td>\n",
              "    </tr>\n",
              "    <tr>\n",
              "      <th>25197</th>\n",
              "      <td>-3.655604</td>\n",
              "      <td>2.878004</td>\n",
              "      <td>2.246387</td>\n",
              "      <td>-4.255493</td>\n",
              "      <td>3.454180</td>\n",
              "      <td>2.925450</td>\n",
              "      <td>0.599889</td>\n",
              "      <td>-0.576176</td>\n",
              "      <td>-0.679063</td>\n",
              "    </tr>\n",
              "    <tr>\n",
              "      <th>25198</th>\n",
              "      <td>-3.657138</td>\n",
              "      <td>2.875319</td>\n",
              "      <td>2.253673</td>\n",
              "      <td>-4.252447</td>\n",
              "      <td>3.462273</td>\n",
              "      <td>2.911483</td>\n",
              "      <td>0.595309</td>\n",
              "      <td>-0.586954</td>\n",
              "      <td>-0.657810</td>\n",
              "    </tr>\n",
              "    <tr>\n",
              "      <th>25199</th>\n",
              "      <td>-3.658544</td>\n",
              "      <td>2.875958</td>\n",
              "      <td>2.253801</td>\n",
              "      <td>-4.258596</td>\n",
              "      <td>3.485813</td>\n",
              "      <td>2.903357</td>\n",
              "      <td>0.600052</td>\n",
              "      <td>-0.609855</td>\n",
              "      <td>-0.649556</td>\n",
              "    </tr>\n",
              "  </tbody>\n",
              "</table>\n",
              "<p>25200 rows × 9 columns</p>\n",
              "</div>\n",
              "      <button class=\"colab-df-convert\" onclick=\"convertToInteractive('df-c3cfec82-434c-4b01-8aab-c6b85e9803db')\"\n",
              "              title=\"Convert this dataframe to an interactive table.\"\n",
              "              style=\"display:none;\">\n",
              "        \n",
              "  <svg xmlns=\"http://www.w3.org/2000/svg\" height=\"24px\"viewBox=\"0 0 24 24\"\n",
              "       width=\"24px\">\n",
              "    <path d=\"M0 0h24v24H0V0z\" fill=\"none\"/>\n",
              "    <path d=\"M18.56 5.44l.94 2.06.94-2.06 2.06-.94-2.06-.94-.94-2.06-.94 2.06-2.06.94zm-11 1L8.5 8.5l.94-2.06 2.06-.94-2.06-.94L8.5 2.5l-.94 2.06-2.06.94zm10 10l.94 2.06.94-2.06 2.06-.94-2.06-.94-.94-2.06-.94 2.06-2.06.94z\"/><path d=\"M17.41 7.96l-1.37-1.37c-.4-.4-.92-.59-1.43-.59-.52 0-1.04.2-1.43.59L10.3 9.45l-7.72 7.72c-.78.78-.78 2.05 0 2.83L4 21.41c.39.39.9.59 1.41.59.51 0 1.02-.2 1.41-.59l7.78-7.78 2.81-2.81c.8-.78.8-2.07 0-2.86zM5.41 20L4 18.59l7.72-7.72 1.47 1.35L5.41 20z\"/>\n",
              "  </svg>\n",
              "      </button>\n",
              "      \n",
              "  <style>\n",
              "    .colab-df-container {\n",
              "      display:flex;\n",
              "      flex-wrap:wrap;\n",
              "      gap: 12px;\n",
              "    }\n",
              "\n",
              "    .colab-df-convert {\n",
              "      background-color: #E8F0FE;\n",
              "      border: none;\n",
              "      border-radius: 50%;\n",
              "      cursor: pointer;\n",
              "      display: none;\n",
              "      fill: #1967D2;\n",
              "      height: 32px;\n",
              "      padding: 0 0 0 0;\n",
              "      width: 32px;\n",
              "    }\n",
              "\n",
              "    .colab-df-convert:hover {\n",
              "      background-color: #E2EBFA;\n",
              "      box-shadow: 0px 1px 2px rgba(60, 64, 67, 0.3), 0px 1px 3px 1px rgba(60, 64, 67, 0.15);\n",
              "      fill: #174EA6;\n",
              "    }\n",
              "\n",
              "    [theme=dark] .colab-df-convert {\n",
              "      background-color: #3B4455;\n",
              "      fill: #D2E3FC;\n",
              "    }\n",
              "\n",
              "    [theme=dark] .colab-df-convert:hover {\n",
              "      background-color: #434B5C;\n",
              "      box-shadow: 0px 1px 3px 1px rgba(0, 0, 0, 0.15);\n",
              "      filter: drop-shadow(0px 1px 2px rgba(0, 0, 0, 0.3));\n",
              "      fill: #FFFFFF;\n",
              "    }\n",
              "  </style>\n",
              "\n",
              "      <script>\n",
              "        const buttonEl =\n",
              "          document.querySelector('#df-c3cfec82-434c-4b01-8aab-c6b85e9803db button.colab-df-convert');\n",
              "        buttonEl.style.display =\n",
              "          google.colab.kernel.accessAllowed ? 'block' : 'none';\n",
              "\n",
              "        async function convertToInteractive(key) {\n",
              "          const element = document.querySelector('#df-c3cfec82-434c-4b01-8aab-c6b85e9803db');\n",
              "          const dataTable =\n",
              "            await google.colab.kernel.invokeFunction('convertToInteractive',\n",
              "                                                     [key], {});\n",
              "          if (!dataTable) return;\n",
              "\n",
              "          const docLinkHtml = 'Like what you see? Visit the ' +\n",
              "            '<a target=\"_blank\" href=https://colab.research.google.com/notebooks/data_table.ipynb>data table notebook</a>'\n",
              "            + ' to learn more about interactive tables.';\n",
              "          element.innerHTML = '';\n",
              "          dataTable['output_type'] = 'display_data';\n",
              "          await google.colab.output.renderOutput(dataTable, element);\n",
              "          const docLink = document.createElement('div');\n",
              "          docLink.innerHTML = docLinkHtml;\n",
              "          element.appendChild(docLink);\n",
              "        }\n",
              "      </script>\n",
              "    </div>\n",
              "  </div>\n",
              "  "
            ],
            "text/plain": [
              "          M1_IK     M2_IK     M3_IK      M1_R      M2_R      M3_R  M1_error  \\\n",
              "0     -0.004218  0.010610  0.006264 -4.872094  3.538265  4.384941  4.867876   \n",
              "1     -0.036304  0.040139  0.035921 -2.511202  1.391536  1.740594  2.474898   \n",
              "2     -0.085392  0.087309  0.084880 -0.501772  0.226344  0.296985  0.416380   \n",
              "3     -0.152248  0.153526  0.148924  0.747953 -0.245522 -0.456786 -0.900201   \n",
              "4     -0.239557  0.212584  0.229458 -0.938727  0.497145  0.518574  0.699170   \n",
              "...         ...       ...       ...       ...       ...       ...       ...   \n",
              "25195 -3.655860  2.881327  2.252779 -4.261791  3.467463  2.926943  0.605931   \n",
              "25196 -3.658544  2.881327  2.246004 -4.252734  3.452903  2.920653  0.594190   \n",
              "25197 -3.655604  2.878004  2.246387 -4.255493  3.454180  2.925450  0.599889   \n",
              "25198 -3.657138  2.875319  2.253673 -4.252447  3.462273  2.911483  0.595309   \n",
              "25199 -3.658544  2.875958  2.253801 -4.258596  3.485813  2.903357  0.600052   \n",
              "\n",
              "       M2_error  M3_error  \n",
              "0     -3.527655 -4.378677  \n",
              "1     -1.351397 -1.704673  \n",
              "2     -0.139034 -0.212104  \n",
              "3      0.399048  0.605710  \n",
              "4     -0.284560 -0.289116  \n",
              "...         ...       ...  \n",
              "25195 -0.586136 -0.674164  \n",
              "25196 -0.571575 -0.674649  \n",
              "25197 -0.576176 -0.679063  \n",
              "25198 -0.586954 -0.657810  \n",
              "25199 -0.609855 -0.649556  \n",
              "\n",
              "[25200 rows x 9 columns]"
            ]
          },
          "execution_count": 22,
          "metadata": {},
          "output_type": "execute_result"
        }
      ],
      "source": [
        "data_error_theta"
      ]
    },
    {
      "attachments": {},
      "cell_type": "markdown",
      "metadata": {
        "id": "xWrrVGb28uSP"
      },
      "source": [
        "## Prepara training dataset"
      ]
    },
    {
      "cell_type": "code",
      "execution_count": 2,
      "metadata": {
        "id": "ck5UExTug5uW"
      },
      "outputs": [],
      "source": [
        "# df1_10 = pd.read_csv('/home/sofia/SOFIA_Python/data/Data_2023/data_february/data_training_orient10_MASTER_3.csv') #cinematica inversa\n",
        "df2_10 = pd.read_csv('/home/sofia/SOFIA_Python/data/Data_2023/data_february/data_training_orient10_MASTER_7.csv') #cinematica inversa\n",
        "df3_10 = pd.read_csv('/home/sofia/SOFIA_Python/data/Data_2023/data_february/data_training_orient10_MASTER_17.csv') #cinematica inversa\n",
        "df4_10 = pd.read_csv('/home/sofia/SOFIA_Python/data/Data_2023/data_february/data_training_orient10_MASTER_24.csv') #cinematica inversa"
      ]
    },
    {
      "cell_type": "code",
      "execution_count": 3,
      "metadata": {},
      "outputs": [
        {
          "data": {
            "text/html": [
              "<div>\n",
              "<style scoped>\n",
              "    .dataframe tbody tr th:only-of-type {\n",
              "        vertical-align: middle;\n",
              "    }\n",
              "\n",
              "    .dataframe tbody tr th {\n",
              "        vertical-align: top;\n",
              "    }\n",
              "\n",
              "    .dataframe thead th {\n",
              "        text-align: right;\n",
              "    }\n",
              "</style>\n",
              "<table border=\"1\" class=\"dataframe\">\n",
              "  <thead>\n",
              "    <tr style=\"text-align: right;\">\n",
              "      <th></th>\n",
              "      <th>I</th>\n",
              "      <th>O</th>\n",
              "      <th>I_error</th>\n",
              "      <th>O_error</th>\n",
              "      <th>M1_error</th>\n",
              "      <th>M2_error</th>\n",
              "      <th>M3_error</th>\n",
              "    </tr>\n",
              "  </thead>\n",
              "  <tbody>\n",
              "    <tr>\n",
              "      <th>0</th>\n",
              "      <td>5</td>\n",
              "      <td>5</td>\n",
              "      <td>4.717852</td>\n",
              "      <td>-85.000000</td>\n",
              "      <td>0.153921</td>\n",
              "      <td>-1.134682</td>\n",
              "      <td>0.868629</td>\n",
              "    </tr>\n",
              "    <tr>\n",
              "      <th>1</th>\n",
              "      <td>5</td>\n",
              "      <td>5</td>\n",
              "      <td>2.738554</td>\n",
              "      <td>-25.095453</td>\n",
              "      <td>0.811960</td>\n",
              "      <td>-0.700308</td>\n",
              "      <td>-0.145936</td>\n",
              "    </tr>\n",
              "    <tr>\n",
              "      <th>2</th>\n",
              "      <td>5</td>\n",
              "      <td>5</td>\n",
              "      <td>1.500433</td>\n",
              "      <td>-18.429621</td>\n",
              "      <td>0.654274</td>\n",
              "      <td>-0.467063</td>\n",
              "      <td>-0.151269</td>\n",
              "    </tr>\n",
              "    <tr>\n",
              "      <th>3</th>\n",
              "      <td>5</td>\n",
              "      <td>5</td>\n",
              "      <td>0.936857</td>\n",
              "      <td>-16.980446</td>\n",
              "      <td>0.525915</td>\n",
              "      <td>-0.336038</td>\n",
              "      <td>-0.078623</td>\n",
              "    </tr>\n",
              "    <tr>\n",
              "      <th>4</th>\n",
              "      <td>5</td>\n",
              "      <td>5</td>\n",
              "      <td>-0.497209</td>\n",
              "      <td>-10.106434</td>\n",
              "      <td>0.283965</td>\n",
              "      <td>-0.107491</td>\n",
              "      <td>-0.001138</td>\n",
              "    </tr>\n",
              "    <tr>\n",
              "      <th>...</th>\n",
              "      <td>...</td>\n",
              "      <td>...</td>\n",
              "      <td>...</td>\n",
              "      <td>...</td>\n",
              "      <td>...</td>\n",
              "      <td>...</td>\n",
              "      <td>...</td>\n",
              "    </tr>\n",
              "    <tr>\n",
              "      <th>25195</th>\n",
              "      <td>35</td>\n",
              "      <td>355</td>\n",
              "      <td>1.428423</td>\n",
              "      <td>2.026173</td>\n",
              "      <td>0.132674</td>\n",
              "      <td>-0.006033</td>\n",
              "      <td>-0.244277</td>\n",
              "    </tr>\n",
              "    <tr>\n",
              "      <th>25196</th>\n",
              "      <td>35</td>\n",
              "      <td>355</td>\n",
              "      <td>1.446577</td>\n",
              "      <td>2.023436</td>\n",
              "      <td>0.136135</td>\n",
              "      <td>-0.007868</td>\n",
              "      <td>-0.247484</td>\n",
              "    </tr>\n",
              "    <tr>\n",
              "      <th>25197</th>\n",
              "      <td>35</td>\n",
              "      <td>355</td>\n",
              "      <td>1.461953</td>\n",
              "      <td>2.013002</td>\n",
              "      <td>0.137282</td>\n",
              "      <td>-0.010959</td>\n",
              "      <td>-0.253910</td>\n",
              "    </tr>\n",
              "    <tr>\n",
              "      <th>25198</th>\n",
              "      <td>35</td>\n",
              "      <td>355</td>\n",
              "      <td>1.518650</td>\n",
              "      <td>2.089197</td>\n",
              "      <td>0.140767</td>\n",
              "      <td>-0.015142</td>\n",
              "      <td>-0.263267</td>\n",
              "    </tr>\n",
              "    <tr>\n",
              "      <th>25199</th>\n",
              "      <td>35</td>\n",
              "      <td>355</td>\n",
              "      <td>1.519994</td>\n",
              "      <td>2.024141</td>\n",
              "      <td>0.140757</td>\n",
              "      <td>-0.019271</td>\n",
              "      <td>-0.252087</td>\n",
              "    </tr>\n",
              "  </tbody>\n",
              "</table>\n",
              "<p>25200 rows × 7 columns</p>\n",
              "</div>"
            ],
            "text/plain": [
              "        I    O   I_error    O_error  M1_error  M2_error  M3_error\n",
              "0       5    5  4.717852 -85.000000  0.153921 -1.134682  0.868629\n",
              "1       5    5  2.738554 -25.095453  0.811960 -0.700308 -0.145936\n",
              "2       5    5  1.500433 -18.429621  0.654274 -0.467063 -0.151269\n",
              "3       5    5  0.936857 -16.980446  0.525915 -0.336038 -0.078623\n",
              "4       5    5 -0.497209 -10.106434  0.283965 -0.107491 -0.001138\n",
              "...    ..  ...       ...        ...       ...       ...       ...\n",
              "25195  35  355  1.428423   2.026173  0.132674 -0.006033 -0.244277\n",
              "25196  35  355  1.446577   2.023436  0.136135 -0.007868 -0.247484\n",
              "25197  35  355  1.461953   2.013002  0.137282 -0.010959 -0.253910\n",
              "25198  35  355  1.518650   2.089197  0.140767 -0.015142 -0.263267\n",
              "25199  35  355  1.519994   2.024141  0.140757 -0.019271 -0.252087\n",
              "\n",
              "[25200 rows x 7 columns]"
            ]
          },
          "execution_count": 3,
          "metadata": {},
          "output_type": "execute_result"
        }
      ],
      "source": [
        "df2_10"
      ]
    },
    {
      "cell_type": "code",
      "execution_count": 4,
      "metadata": {
        "id": "RS7YIG358x8S"
      },
      "outputs": [],
      "source": [
        "# Preparemos el dataset para entrenar el modelo con errores\n",
        "data_model = pd.DataFrame()"
      ]
    },
    {
      "cell_type": "code",
      "execution_count": 8,
      "metadata": {
        "id": "eYrQYRCJ82zq"
      },
      "outputs": [],
      "source": [
        "data_model = pd.concat([df2_10, df3_10, df4_10])"
      ]
    },
    {
      "cell_type": "code",
      "execution_count": 9,
      "metadata": {},
      "outputs": [],
      "source": [
        "import sklearn.utils \n",
        "data_model = sklearn.utils.shuffle(data_model) #aleatorizamos los datos"
      ]
    },
    {
      "cell_type": "code",
      "execution_count": 21,
      "metadata": {
        "colab": {
          "base_uri": "https://localhost:8080/",
          "height": 424
        },
        "id": "k1hJI-is9ttf",
        "outputId": "bfefa3b5-7267-4639-dfee-c152186513a0"
      },
      "outputs": [
        {
          "data": {
            "text/html": [
              "<div>\n",
              "<style scoped>\n",
              "    .dataframe tbody tr th:only-of-type {\n",
              "        vertical-align: middle;\n",
              "    }\n",
              "\n",
              "    .dataframe tbody tr th {\n",
              "        vertical-align: top;\n",
              "    }\n",
              "\n",
              "    .dataframe thead th {\n",
              "        text-align: right;\n",
              "    }\n",
              "</style>\n",
              "<table border=\"1\" class=\"dataframe\">\n",
              "  <thead>\n",
              "    <tr style=\"text-align: right;\">\n",
              "      <th></th>\n",
              "      <th>I</th>\n",
              "      <th>O</th>\n",
              "      <th>I_error</th>\n",
              "      <th>O_error</th>\n",
              "      <th>M1_error</th>\n",
              "      <th>M2_error</th>\n",
              "      <th>M3_error</th>\n",
              "    </tr>\n",
              "  </thead>\n",
              "  <tbody>\n",
              "    <tr>\n",
              "      <th>24716</th>\n",
              "      <td>35</td>\n",
              "      <td>315</td>\n",
              "      <td>3.067516</td>\n",
              "      <td>-1.543490</td>\n",
              "      <td>0.073544</td>\n",
              "      <td>-0.456304</td>\n",
              "      <td>0.117278</td>\n",
              "    </tr>\n",
              "    <tr>\n",
              "      <th>4657</th>\n",
              "      <td>10</td>\n",
              "      <td>105</td>\n",
              "      <td>1.373313</td>\n",
              "      <td>15.519410</td>\n",
              "      <td>-0.395672</td>\n",
              "      <td>0.193344</td>\n",
              "      <td>0.163914</td>\n",
              "    </tr>\n",
              "    <tr>\n",
              "      <th>23158</th>\n",
              "      <td>35</td>\n",
              "      <td>155</td>\n",
              "      <td>5.869275</td>\n",
              "      <td>2.997406</td>\n",
              "      <td>-0.882987</td>\n",
              "      <td>0.222262</td>\n",
              "      <td>0.134452</td>\n",
              "    </tr>\n",
              "    <tr>\n",
              "      <th>14651</th>\n",
              "      <td>25</td>\n",
              "      <td>25</td>\n",
              "      <td>0.988351</td>\n",
              "      <td>2.202599</td>\n",
              "      <td>0.032516</td>\n",
              "      <td>0.087507</td>\n",
              "      <td>-0.185660</td>\n",
              "    </tr>\n",
              "    <tr>\n",
              "      <th>24773</th>\n",
              "      <td>35</td>\n",
              "      <td>315</td>\n",
              "      <td>2.284108</td>\n",
              "      <td>-1.339768</td>\n",
              "      <td>0.046819</td>\n",
              "      <td>-0.346470</td>\n",
              "      <td>0.100164</td>\n",
              "    </tr>\n",
              "    <tr>\n",
              "      <th>...</th>\n",
              "      <td>...</td>\n",
              "      <td>...</td>\n",
              "      <td>...</td>\n",
              "      <td>...</td>\n",
              "      <td>...</td>\n",
              "      <td>...</td>\n",
              "      <td>...</td>\n",
              "    </tr>\n",
              "    <tr>\n",
              "      <th>7930</th>\n",
              "      <td>15</td>\n",
              "      <td>75</td>\n",
              "      <td>0.614688</td>\n",
              "      <td>12.374652</td>\n",
              "      <td>-0.388040</td>\n",
              "      <td>0.299343</td>\n",
              "      <td>0.071241</td>\n",
              "    </tr>\n",
              "    <tr>\n",
              "      <th>1122</th>\n",
              "      <td>5</td>\n",
              "      <td>115</td>\n",
              "      <td>-0.076936</td>\n",
              "      <td>10.727628</td>\n",
              "      <td>-0.093025</td>\n",
              "      <td>-0.009138</td>\n",
              "      <td>0.103342</td>\n",
              "    </tr>\n",
              "    <tr>\n",
              "      <th>7268</th>\n",
              "      <td>15</td>\n",
              "      <td>5</td>\n",
              "      <td>-0.071079</td>\n",
              "      <td>0.812760</td>\n",
              "      <td>-0.010442</td>\n",
              "      <td>0.024920</td>\n",
              "      <td>-0.012455</td>\n",
              "    </tr>\n",
              "    <tr>\n",
              "      <th>22569</th>\n",
              "      <td>35</td>\n",
              "      <td>95</td>\n",
              "      <td>3.035074</td>\n",
              "      <td>7.392342</td>\n",
              "      <td>-0.691290</td>\n",
              "      <td>0.439176</td>\n",
              "      <td>-0.011188</td>\n",
              "    </tr>\n",
              "    <tr>\n",
              "      <th>14939</th>\n",
              "      <td>25</td>\n",
              "      <td>55</td>\n",
              "      <td>0.993207</td>\n",
              "      <td>4.635056</td>\n",
              "      <td>-0.165897</td>\n",
              "      <td>0.252530</td>\n",
              "      <td>-0.150655</td>\n",
              "    </tr>\n",
              "  </tbody>\n",
              "</table>\n",
              "<p>75600 rows × 7 columns</p>\n",
              "</div>"
            ],
            "text/plain": [
              "        I    O   I_error    O_error  M1_error  M2_error  M3_error\n",
              "24716  35  315  3.067516  -1.543490  0.073544 -0.456304  0.117278\n",
              "4657   10  105  1.373313  15.519410 -0.395672  0.193344  0.163914\n",
              "23158  35  155  5.869275   2.997406 -0.882987  0.222262  0.134452\n",
              "14651  25   25  0.988351   2.202599  0.032516  0.087507 -0.185660\n",
              "24773  35  315  2.284108  -1.339768  0.046819 -0.346470  0.100164\n",
              "...    ..  ...       ...        ...       ...       ...       ...\n",
              "7930   15   75  0.614688  12.374652 -0.388040  0.299343  0.071241\n",
              "1122    5  115 -0.076936  10.727628 -0.093025 -0.009138  0.103342\n",
              "7268   15    5 -0.071079   0.812760 -0.010442  0.024920 -0.012455\n",
              "22569  35   95  3.035074   7.392342 -0.691290  0.439176 -0.011188\n",
              "14939  25   55  0.993207   4.635056 -0.165897  0.252530 -0.150655\n",
              "\n",
              "[75600 rows x 7 columns]"
            ]
          },
          "execution_count": 21,
          "metadata": {},
          "output_type": "execute_result"
        }
      ],
      "source": [
        "data_model"
      ]
    },
    {
      "cell_type": "code",
      "execution_count": 72,
      "metadata": {},
      "outputs": [],
      "source": [
        "'''data_model['I'] = [math.radians(i) for i in data_model['I']]\n",
        "data_model['O'] = [math.radians(i) for i in data_model['O']]\n",
        "data_model['I_error'] = [math.radians(i) for i in data_model['I_error']]\n",
        "data_model['O_error'] = [math.radians(i) for i in data_model['O_error']]\n",
        "\n",
        "DOES NOT WORK, THE VALUES ARE TOO SMALL\n",
        "'''"
      ]
    },
    {
      "attachments": {},
      "cell_type": "markdown",
      "metadata": {},
      "source": [
        "### Getting rid of the outliers"
      ]
    },
    {
      "cell_type": "code",
      "execution_count": 10,
      "metadata": {},
      "outputs": [
        {
          "data": {
            "text/html": [
              "<div>\n",
              "<style scoped>\n",
              "    .dataframe tbody tr th:only-of-type {\n",
              "        vertical-align: middle;\n",
              "    }\n",
              "\n",
              "    .dataframe tbody tr th {\n",
              "        vertical-align: top;\n",
              "    }\n",
              "\n",
              "    .dataframe thead th {\n",
              "        text-align: right;\n",
              "    }\n",
              "</style>\n",
              "<table border=\"1\" class=\"dataframe\">\n",
              "  <thead>\n",
              "    <tr style=\"text-align: right;\">\n",
              "      <th></th>\n",
              "      <th>I</th>\n",
              "      <th>O</th>\n",
              "      <th>I_error</th>\n",
              "      <th>O_error</th>\n",
              "      <th>M1_error</th>\n",
              "      <th>M2_error</th>\n",
              "      <th>M3_error</th>\n",
              "    </tr>\n",
              "  </thead>\n",
              "  <tbody>\n",
              "    <tr>\n",
              "      <th>24184</th>\n",
              "      <td>35</td>\n",
              "      <td>255</td>\n",
              "      <td>3.853993</td>\n",
              "      <td>-0.581734</td>\n",
              "      <td>-0.272192</td>\n",
              "      <td>-0.389716</td>\n",
              "      <td>0.325647</td>\n",
              "    </tr>\n",
              "    <tr>\n",
              "      <th>15673</th>\n",
              "      <td>25</td>\n",
              "      <td>125</td>\n",
              "      <td>4.334026</td>\n",
              "      <td>8.337989</td>\n",
              "      <td>-0.779141</td>\n",
              "      <td>0.331590</td>\n",
              "      <td>0.163949</td>\n",
              "    </tr>\n",
              "    <tr>\n",
              "      <th>18640</th>\n",
              "      <td>30</td>\n",
              "      <td>65</td>\n",
              "      <td>2.309625</td>\n",
              "      <td>3.240894</td>\n",
              "      <td>-0.145591</td>\n",
              "      <td>0.271004</td>\n",
              "      <td>-0.297681</td>\n",
              "    </tr>\n",
              "    <tr>\n",
              "      <th>21431</th>\n",
              "      <td>30</td>\n",
              "      <td>345</td>\n",
              "      <td>3.440694</td>\n",
              "      <td>0.790876</td>\n",
              "      <td>0.314222</td>\n",
              "      <td>-0.328896</td>\n",
              "      <td>-0.246601</td>\n",
              "    </tr>\n",
              "    <tr>\n",
              "      <th>8414</th>\n",
              "      <td>15</td>\n",
              "      <td>125</td>\n",
              "      <td>2.684595</td>\n",
              "      <td>7.100506</td>\n",
              "      <td>-0.423442</td>\n",
              "      <td>0.246314</td>\n",
              "      <td>0.076159</td>\n",
              "    </tr>\n",
              "    <tr>\n",
              "      <th>...</th>\n",
              "      <td>...</td>\n",
              "      <td>...</td>\n",
              "      <td>...</td>\n",
              "      <td>...</td>\n",
              "      <td>...</td>\n",
              "      <td>...</td>\n",
              "      <td>...</td>\n",
              "    </tr>\n",
              "    <tr>\n",
              "      <th>20651</th>\n",
              "      <td>30</td>\n",
              "      <td>265</td>\n",
              "      <td>2.874478</td>\n",
              "      <td>-4.651790</td>\n",
              "      <td>-0.416538</td>\n",
              "      <td>-0.151730</td>\n",
              "      <td>0.353078</td>\n",
              "    </tr>\n",
              "    <tr>\n",
              "      <th>15888</th>\n",
              "      <td>25</td>\n",
              "      <td>145</td>\n",
              "      <td>5.002676</td>\n",
              "      <td>5.376542</td>\n",
              "      <td>-0.769014</td>\n",
              "      <td>0.266510</td>\n",
              "      <td>0.176330</td>\n",
              "    </tr>\n",
              "    <tr>\n",
              "      <th>19540</th>\n",
              "      <td>30</td>\n",
              "      <td>155</td>\n",
              "      <td>5.534417</td>\n",
              "      <td>3.787292</td>\n",
              "      <td>-0.838611</td>\n",
              "      <td>0.213526</td>\n",
              "      <td>0.187021</td>\n",
              "    </tr>\n",
              "    <tr>\n",
              "      <th>5778</th>\n",
              "      <td>10</td>\n",
              "      <td>215</td>\n",
              "      <td>2.057927</td>\n",
              "      <td>6.452844</td>\n",
              "      <td>-0.121946</td>\n",
              "      <td>-0.201615</td>\n",
              "      <td>0.266449</td>\n",
              "    </tr>\n",
              "    <tr>\n",
              "      <th>6360</th>\n",
              "      <td>10</td>\n",
              "      <td>275</td>\n",
              "      <td>0.358219</td>\n",
              "      <td>-12.775224</td>\n",
              "      <td>-0.275767</td>\n",
              "      <td>0.100364</td>\n",
              "      <td>0.166525</td>\n",
              "    </tr>\n",
              "  </tbody>\n",
              "</table>\n",
              "<p>75600 rows × 7 columns</p>\n",
              "</div>"
            ],
            "text/plain": [
              "        I    O   I_error    O_error  M1_error  M2_error  M3_error\n",
              "24184  35  255  3.853993  -0.581734 -0.272192 -0.389716  0.325647\n",
              "15673  25  125  4.334026   8.337989 -0.779141  0.331590  0.163949\n",
              "18640  30   65  2.309625   3.240894 -0.145591  0.271004 -0.297681\n",
              "21431  30  345  3.440694   0.790876  0.314222 -0.328896 -0.246601\n",
              "8414   15  125  2.684595   7.100506 -0.423442  0.246314  0.076159\n",
              "...    ..  ...       ...        ...       ...       ...       ...\n",
              "20651  30  265  2.874478  -4.651790 -0.416538 -0.151730  0.353078\n",
              "15888  25  145  5.002676   5.376542 -0.769014  0.266510  0.176330\n",
              "19540  30  155  5.534417   3.787292 -0.838611  0.213526  0.187021\n",
              "5778   10  215  2.057927   6.452844 -0.121946 -0.201615  0.266449\n",
              "6360   10  275  0.358219 -12.775224 -0.275767  0.100364  0.166525\n",
              "\n",
              "[75600 rows x 7 columns]"
            ]
          },
          "execution_count": 10,
          "metadata": {},
          "output_type": "execute_result"
        }
      ],
      "source": [
        "data_model"
      ]
    },
    {
      "cell_type": "code",
      "execution_count": 11,
      "metadata": {},
      "outputs": [
        {
          "name": "stdout",
          "output_type": "stream",
          "text": [
            "Number of outliers: 99\n",
            "Outliers:\n",
            "        I  O   I_error     O_error  M1_error  M2_error  M3_error\n",
            "23      5  5 -2.977407   -5.337069 -0.347982  0.138639  0.234702\n",
            "77      5  5 -2.664275   -4.116758 -0.311754  0.124842  0.210752\n",
            "58      5  5 -3.333532   -7.228873 -0.392161  0.156113  0.262482\n",
            "11      5  5 -2.886723    1.935771 -0.340831  0.164958  0.199629\n",
            "36      5  5 -2.908581   -4.902221 -0.341567  0.135985  0.226765\n",
            "...    .. ..       ...         ...       ...       ...       ...\n",
            "32      5  5 -2.846633   -4.136254 -0.334473  0.135175  0.222082\n",
            "59      5  5 -3.305631   -7.190789 -0.389336  0.153625  0.259603\n",
            "17      5  5 -3.085630   -5.748815 -0.363074  0.144366  0.242919\n",
            "10800  20  5  7.171279 -353.149888  1.169566 -0.175037 -1.613607\n",
            "42      5  5 -2.989807   -5.860529 -0.351017  0.139935  0.238036\n",
            "\n",
            "[99 rows x 7 columns]\n"
          ]
        },
        {
          "data": {
            "image/png": "[encoded data removed]",
            "text/plain": [
              "<Figure size 640x480 with 1 Axes>"
            ]
          },
          "metadata": {},
          "output_type": "display_data"
        }
      ],
      "source": [
        "# Creating plot\n",
        "# how to know how many outliers are in a dataset in python ?\n",
        "plt.boxplot(data_model['I_error'])\n",
        "\n",
        "Q1 = data_model['I_error'].quantile(0.25)  # 1st quartile\n",
        "Q3 = data_model['I_error'].quantile(0.75)  # 3rd quartile\n",
        "IQR = Q3 - Q1  # Interquartile range\n",
        "\n",
        "# defining bounds for outliers\n",
        "lower_bound = Q1 - 1.5 * IQR\n",
        "upper_bound = Q3 + 1.5 * IQR\n",
        "\n",
        "# Identifying the outliers\n",
        "outliers = data_model[(data_model['I_error'] < lower_bound) | (data_model['I_error'] > upper_bound)]\n",
        "print('Number of outliers:', outliers.shape[0])\n",
        "print('Outliers:')\n",
        "print(outliers)\n",
        "\n",
        "data_model = data_model[(data_model['I_error']>= lower_bound) & (data_model['I_error']<= upper_bound)]\n"
      ]
    },
    {
      "cell_type": "code",
      "execution_count": 24,
      "metadata": {},
      "outputs": [
        {
          "data": {
            "text/html": [
              "<div>\n",
              "<style scoped>\n",
              "    .dataframe tbody tr th:only-of-type {\n",
              "        vertical-align: middle;\n",
              "    }\n",
              "\n",
              "    .dataframe tbody tr th {\n",
              "        vertical-align: top;\n",
              "    }\n",
              "\n",
              "    .dataframe thead th {\n",
              "        text-align: right;\n",
              "    }\n",
              "</style>\n",
              "<table border=\"1\" class=\"dataframe\">\n",
              "  <thead>\n",
              "    <tr style=\"text-align: right;\">\n",
              "      <th></th>\n",
              "      <th>I</th>\n",
              "      <th>O</th>\n",
              "      <th>I_error</th>\n",
              "      <th>O_error</th>\n",
              "      <th>M1_error</th>\n",
              "      <th>M2_error</th>\n",
              "      <th>M3_error</th>\n",
              "    </tr>\n",
              "  </thead>\n",
              "  <tbody>\n",
              "    <tr>\n",
              "      <th>24716</th>\n",
              "      <td>35</td>\n",
              "      <td>315</td>\n",
              "      <td>3.067516</td>\n",
              "      <td>-1.543490</td>\n",
              "      <td>0.073544</td>\n",
              "      <td>-0.456304</td>\n",
              "      <td>0.117278</td>\n",
              "    </tr>\n",
              "    <tr>\n",
              "      <th>4657</th>\n",
              "      <td>10</td>\n",
              "      <td>105</td>\n",
              "      <td>1.373313</td>\n",
              "      <td>15.519410</td>\n",
              "      <td>-0.395672</td>\n",
              "      <td>0.193344</td>\n",
              "      <td>0.163914</td>\n",
              "    </tr>\n",
              "    <tr>\n",
              "      <th>23158</th>\n",
              "      <td>35</td>\n",
              "      <td>155</td>\n",
              "      <td>5.869275</td>\n",
              "      <td>2.997406</td>\n",
              "      <td>-0.882987</td>\n",
              "      <td>0.222262</td>\n",
              "      <td>0.134452</td>\n",
              "    </tr>\n",
              "    <tr>\n",
              "      <th>14651</th>\n",
              "      <td>25</td>\n",
              "      <td>25</td>\n",
              "      <td>0.988351</td>\n",
              "      <td>2.202599</td>\n",
              "      <td>0.032516</td>\n",
              "      <td>0.087507</td>\n",
              "      <td>-0.185660</td>\n",
              "    </tr>\n",
              "    <tr>\n",
              "      <th>24773</th>\n",
              "      <td>35</td>\n",
              "      <td>315</td>\n",
              "      <td>2.284108</td>\n",
              "      <td>-1.339768</td>\n",
              "      <td>0.046819</td>\n",
              "      <td>-0.346470</td>\n",
              "      <td>0.100164</td>\n",
              "    </tr>\n",
              "    <tr>\n",
              "      <th>...</th>\n",
              "      <td>...</td>\n",
              "      <td>...</td>\n",
              "      <td>...</td>\n",
              "      <td>...</td>\n",
              "      <td>...</td>\n",
              "      <td>...</td>\n",
              "      <td>...</td>\n",
              "    </tr>\n",
              "    <tr>\n",
              "      <th>7930</th>\n",
              "      <td>15</td>\n",
              "      <td>75</td>\n",
              "      <td>0.614688</td>\n",
              "      <td>12.374652</td>\n",
              "      <td>-0.388040</td>\n",
              "      <td>0.299343</td>\n",
              "      <td>0.071241</td>\n",
              "    </tr>\n",
              "    <tr>\n",
              "      <th>1122</th>\n",
              "      <td>5</td>\n",
              "      <td>115</td>\n",
              "      <td>-0.076936</td>\n",
              "      <td>10.727628</td>\n",
              "      <td>-0.093025</td>\n",
              "      <td>-0.009138</td>\n",
              "      <td>0.103342</td>\n",
              "    </tr>\n",
              "    <tr>\n",
              "      <th>7268</th>\n",
              "      <td>15</td>\n",
              "      <td>5</td>\n",
              "      <td>-0.071079</td>\n",
              "      <td>0.812760</td>\n",
              "      <td>-0.010442</td>\n",
              "      <td>0.024920</td>\n",
              "      <td>-0.012455</td>\n",
              "    </tr>\n",
              "    <tr>\n",
              "      <th>22569</th>\n",
              "      <td>35</td>\n",
              "      <td>95</td>\n",
              "      <td>3.035074</td>\n",
              "      <td>7.392342</td>\n",
              "      <td>-0.691290</td>\n",
              "      <td>0.439176</td>\n",
              "      <td>-0.011188</td>\n",
              "    </tr>\n",
              "    <tr>\n",
              "      <th>14939</th>\n",
              "      <td>25</td>\n",
              "      <td>55</td>\n",
              "      <td>0.993207</td>\n",
              "      <td>4.635056</td>\n",
              "      <td>-0.165897</td>\n",
              "      <td>0.252530</td>\n",
              "      <td>-0.150655</td>\n",
              "    </tr>\n",
              "  </tbody>\n",
              "</table>\n",
              "<p>75501 rows × 7 columns</p>\n",
              "</div>"
            ],
            "text/plain": [
              "        I    O   I_error    O_error  M1_error  M2_error  M3_error\n",
              "24716  35  315  3.067516  -1.543490  0.073544 -0.456304  0.117278\n",
              "4657   10  105  1.373313  15.519410 -0.395672  0.193344  0.163914\n",
              "23158  35  155  5.869275   2.997406 -0.882987  0.222262  0.134452\n",
              "14651  25   25  0.988351   2.202599  0.032516  0.087507 -0.185660\n",
              "24773  35  315  2.284108  -1.339768  0.046819 -0.346470  0.100164\n",
              "...    ..  ...       ...        ...       ...       ...       ...\n",
              "7930   15   75  0.614688  12.374652 -0.388040  0.299343  0.071241\n",
              "1122    5  115 -0.076936  10.727628 -0.093025 -0.009138  0.103342\n",
              "7268   15    5 -0.071079   0.812760 -0.010442  0.024920 -0.012455\n",
              "22569  35   95  3.035074   7.392342 -0.691290  0.439176 -0.011188\n",
              "14939  25   55  0.993207   4.635056 -0.165897  0.252530 -0.150655\n",
              "\n",
              "[75501 rows x 7 columns]"
            ]
          },
          "execution_count": 24,
          "metadata": {},
          "output_type": "execute_result"
        }
      ],
      "source": [
        "data_model"
      ]
    },
    {
      "cell_type": "code",
      "execution_count": 12,
      "metadata": {},
      "outputs": [
        {
          "name": "stdout",
          "output_type": "stream",
          "text": [
            "Number of outliers: 4765\n",
            "Outliers:\n",
            "      I    O   I_error    O_error  M1_error  M2_error  M3_error\n",
            "2806  5  285 -0.995838 -20.859830 -0.200924  0.197593  0.019010\n",
            "77    5    5  0.992087 -34.475872  0.024233 -0.371954  0.334183\n",
            "2376  5  235  1.183620 -28.485951 -0.325967  0.293747  0.014974\n",
            "2630  5  265 -0.120708 -22.395846 -0.216347  0.176116  0.043078\n",
            "1165  5  115  1.055938  27.284860 -0.326166  0.069395  0.244734\n",
            "...  ..  ...       ...        ...       ...       ...       ...\n",
            "2340  5  235  1.117381 -27.600749 -0.315359  0.284875  0.017289\n",
            "2822  5  285 -0.733597 -21.030002 -0.208469  0.170421  0.047403\n",
            "1388  5  135  1.809102  22.652556 -0.340307  0.058143  0.258310\n",
            "2304  5  235  0.600675 -29.770710 -0.271096  0.312091 -0.047652\n",
            "2729  5  275 -0.489399 -19.847990 -0.188845  0.161194  0.033781\n",
            "\n",
            "[4765 rows x 7 columns]\n"
          ]
        },
        {
          "data": {
            "image/png": "[encoded data removed]",
            "text/plain": [
              "<Figure size 640x480 with 1 Axes>"
            ]
          },
          "metadata": {},
          "output_type": "display_data"
        }
      ],
      "source": [
        "# Creating plot\n",
        "plt.boxplot(data_model['O_error'])\n",
        "\n",
        "Q1 = data_model['O_error'].quantile(0.25)  # 1st quartile\n",
        "Q3 = data_model['O_error'].quantile(0.75)  # 3rd quartile\n",
        "IQR = Q3 - Q1  # Interquartile range\n",
        "\n",
        "# defining bounds for outliers\n",
        "lower_bound = Q1 - 1.5 * IQR\n",
        "upper_bound = Q3 + 1.5 * IQR\n",
        "\n",
        "# Identifying the outliers\n",
        "outliers = data_model[(data_model['O_error'] < lower_bound) | (data_model['O_error'] > upper_bound)]\n",
        "print('Number of outliers:', outliers.shape[0])\n",
        "print('Outliers:')\n",
        "print(outliers)"
      ]
    },
    {
      "cell_type": "code",
      "execution_count": 13,
      "metadata": {},
      "outputs": [],
      "source": [
        "data_model = data_model[(data_model['O_error']>= lower_bound) & (data_model['O_error']<= upper_bound)]"
      ]
    },
    {
      "cell_type": "code",
      "execution_count": 27,
      "metadata": {},
      "outputs": [
        {
          "data": {
            "text/html": [
              "<div>\n",
              "<style scoped>\n",
              "    .dataframe tbody tr th:only-of-type {\n",
              "        vertical-align: middle;\n",
              "    }\n",
              "\n",
              "    .dataframe tbody tr th {\n",
              "        vertical-align: top;\n",
              "    }\n",
              "\n",
              "    .dataframe thead th {\n",
              "        text-align: right;\n",
              "    }\n",
              "</style>\n",
              "<table border=\"1\" class=\"dataframe\">\n",
              "  <thead>\n",
              "    <tr style=\"text-align: right;\">\n",
              "      <th></th>\n",
              "      <th>I</th>\n",
              "      <th>O</th>\n",
              "      <th>I_error</th>\n",
              "      <th>O_error</th>\n",
              "      <th>M1_error</th>\n",
              "      <th>M2_error</th>\n",
              "      <th>M3_error</th>\n",
              "    </tr>\n",
              "  </thead>\n",
              "  <tbody>\n",
              "    <tr>\n",
              "      <th>24716</th>\n",
              "      <td>35</td>\n",
              "      <td>315</td>\n",
              "      <td>3.067516</td>\n",
              "      <td>-1.543490</td>\n",
              "      <td>0.073544</td>\n",
              "      <td>-0.456304</td>\n",
              "      <td>0.117278</td>\n",
              "    </tr>\n",
              "    <tr>\n",
              "      <th>4657</th>\n",
              "      <td>10</td>\n",
              "      <td>105</td>\n",
              "      <td>1.373313</td>\n",
              "      <td>15.519410</td>\n",
              "      <td>-0.395672</td>\n",
              "      <td>0.193344</td>\n",
              "      <td>0.163914</td>\n",
              "    </tr>\n",
              "    <tr>\n",
              "      <th>23158</th>\n",
              "      <td>35</td>\n",
              "      <td>155</td>\n",
              "      <td>5.869275</td>\n",
              "      <td>2.997406</td>\n",
              "      <td>-0.882987</td>\n",
              "      <td>0.222262</td>\n",
              "      <td>0.134452</td>\n",
              "    </tr>\n",
              "    <tr>\n",
              "      <th>14651</th>\n",
              "      <td>25</td>\n",
              "      <td>25</td>\n",
              "      <td>0.988351</td>\n",
              "      <td>2.202599</td>\n",
              "      <td>0.032516</td>\n",
              "      <td>0.087507</td>\n",
              "      <td>-0.185660</td>\n",
              "    </tr>\n",
              "    <tr>\n",
              "      <th>24773</th>\n",
              "      <td>35</td>\n",
              "      <td>315</td>\n",
              "      <td>2.284108</td>\n",
              "      <td>-1.339768</td>\n",
              "      <td>0.046819</td>\n",
              "      <td>-0.346470</td>\n",
              "      <td>0.100164</td>\n",
              "    </tr>\n",
              "    <tr>\n",
              "      <th>...</th>\n",
              "      <td>...</td>\n",
              "      <td>...</td>\n",
              "      <td>...</td>\n",
              "      <td>...</td>\n",
              "      <td>...</td>\n",
              "      <td>...</td>\n",
              "      <td>...</td>\n",
              "    </tr>\n",
              "    <tr>\n",
              "      <th>7930</th>\n",
              "      <td>15</td>\n",
              "      <td>75</td>\n",
              "      <td>0.614688</td>\n",
              "      <td>12.374652</td>\n",
              "      <td>-0.388040</td>\n",
              "      <td>0.299343</td>\n",
              "      <td>0.071241</td>\n",
              "    </tr>\n",
              "    <tr>\n",
              "      <th>1122</th>\n",
              "      <td>5</td>\n",
              "      <td>115</td>\n",
              "      <td>-0.076936</td>\n",
              "      <td>10.727628</td>\n",
              "      <td>-0.093025</td>\n",
              "      <td>-0.009138</td>\n",
              "      <td>0.103342</td>\n",
              "    </tr>\n",
              "    <tr>\n",
              "      <th>7268</th>\n",
              "      <td>15</td>\n",
              "      <td>5</td>\n",
              "      <td>-0.071079</td>\n",
              "      <td>0.812760</td>\n",
              "      <td>-0.010442</td>\n",
              "      <td>0.024920</td>\n",
              "      <td>-0.012455</td>\n",
              "    </tr>\n",
              "    <tr>\n",
              "      <th>22569</th>\n",
              "      <td>35</td>\n",
              "      <td>95</td>\n",
              "      <td>3.035074</td>\n",
              "      <td>7.392342</td>\n",
              "      <td>-0.691290</td>\n",
              "      <td>0.439176</td>\n",
              "      <td>-0.011188</td>\n",
              "    </tr>\n",
              "    <tr>\n",
              "      <th>14939</th>\n",
              "      <td>25</td>\n",
              "      <td>55</td>\n",
              "      <td>0.993207</td>\n",
              "      <td>4.635056</td>\n",
              "      <td>-0.165897</td>\n",
              "      <td>0.252530</td>\n",
              "      <td>-0.150655</td>\n",
              "    </tr>\n",
              "  </tbody>\n",
              "</table>\n",
              "<p>70736 rows × 7 columns</p>\n",
              "</div>"
            ],
            "text/plain": [
              "        I    O   I_error    O_error  M1_error  M2_error  M3_error\n",
              "24716  35  315  3.067516  -1.543490  0.073544 -0.456304  0.117278\n",
              "4657   10  105  1.373313  15.519410 -0.395672  0.193344  0.163914\n",
              "23158  35  155  5.869275   2.997406 -0.882987  0.222262  0.134452\n",
              "14651  25   25  0.988351   2.202599  0.032516  0.087507 -0.185660\n",
              "24773  35  315  2.284108  -1.339768  0.046819 -0.346470  0.100164\n",
              "...    ..  ...       ...        ...       ...       ...       ...\n",
              "7930   15   75  0.614688  12.374652 -0.388040  0.299343  0.071241\n",
              "1122    5  115 -0.076936  10.727628 -0.093025 -0.009138  0.103342\n",
              "7268   15    5 -0.071079   0.812760 -0.010442  0.024920 -0.012455\n",
              "22569  35   95  3.035074   7.392342 -0.691290  0.439176 -0.011188\n",
              "14939  25   55  0.993207   4.635056 -0.165897  0.252530 -0.150655\n",
              "\n",
              "[70736 rows x 7 columns]"
            ]
          },
          "execution_count": 27,
          "metadata": {},
          "output_type": "execute_result"
        }
      ],
      "source": [
        "data_model"
      ]
    },
    {
      "attachments": {},
      "cell_type": "markdown",
      "metadata": {},
      "source": [
        "### Visualizing the distribution"
      ]
    },
    {
      "cell_type": "code",
      "execution_count": 19,
      "metadata": {},
      "outputs": [
        {
          "data": {
            "text/plain": [
              "Text(0.5, 0, 'θ_error')"
            ]
          },
          "execution_count": 19,
          "metadata": {},
          "output_type": "execute_result"
        },
        {
          "data": {
            "image/png": "[encoded data removed]",
            "text/plain": [
              "<Figure size 640x480 with 3 Axes>"
            ]
          },
          "metadata": {},
          "output_type": "display_data"
        }
      ],
      "source": [
        "fig, axs = plt.subplots(3)\n",
        "axs[0].hist(data_model['M1_error'], bins=100, label='θ_error1', color='red')\n",
        "axs[1].hist(data_model['M2_error'], bins=100, label='θ_error2', color='blue')\n",
        "axs[2].hist(data_model['M3_error'], bins=100, label='θ_error3', color='orange')\n",
        "axs[0].legend()\n",
        "axs[1].legend()\n",
        "axs[2].legend()\n",
        "axs[2].set_xlabel('θ_error')\n",
        "\n",
        "# bar plot in matplotlib ?  "
      ]
    },
    {
      "cell_type": "code",
      "execution_count": 226,
      "metadata": {},
      "outputs": [
        {
          "data": {
            "text/plain": [
              "(array([ 183.,  153.,  283.,  264.,  453.,  606.,  472.,  588.,  563.,\n",
              "         506.,  650.,  676.,  950., 1116., 1219., 1666., 1859., 2345.,\n",
              "        2521., 2607., 2774., 3236., 3358., 3853., 3182., 2805., 2917.,\n",
              "        2754., 3477., 2976., 2605., 2329., 2084., 1817., 1588., 1378.,\n",
              "         930.,  953., 1021.,  737.,  468.,  792.,  852.,  638.,  395.,\n",
              "         385.,  341.,  231.,  110.,   70.]),\n",
              " array([-15.74468628, -15.06897039, -14.39325451, -13.71753862,\n",
              "        -13.04182273, -12.36610684, -11.69039096, -11.01467507,\n",
              "        -10.33895918,  -9.66324329,  -8.98752741,  -8.31181152,\n",
              "         -7.63609563,  -6.96037974,  -6.28466386,  -5.60894797,\n",
              "         -4.93323208,  -4.25751619,  -3.5818003 ,  -2.90608442,\n",
              "         -2.23036853,  -1.55465264,  -0.87893675,  -0.20322087,\n",
              "          0.47249502,   1.14821091,   1.8239268 ,   2.49964268,\n",
              "          3.17535857,   3.85107446,   4.52679035,   5.20250623,\n",
              "          5.87822212,   6.55393801,   7.2296539 ,   7.90536978,\n",
              "          8.58108567,   9.25680156,   9.93251745,  10.60823333,\n",
              "         11.28394922,  11.95966511,  12.635381  ,  13.31109688,\n",
              "         13.98681277,  14.66252866,  15.33824455,  16.01396044,\n",
              "         16.68967632,  17.36539221,  18.0411081 ]),\n",
              " <BarContainer object of 50 artists>)"
            ]
          },
          "execution_count": 226,
          "metadata": {},
          "output_type": "execute_result"
        },
        {
          "data": {
            "image/png": "[encoded data removed]",
            "text/plain": [
              "<Figure size 640x480 with 2 Axes>"
            ]
          },
          "metadata": {},
          "output_type": "display_data"
        }
      ],
      "source": [
        "fig, axs = plt.subplots(2)\n",
        "axs[0].hist(data_model['I_error'], bins=100, label='Motor1_error')\n",
        "axs[1].hist(data_model['O_error'], bins=50, label='Motor1_error')"
      ]
    },
    {
      "attachments": {},
      "cell_type": "markdown",
      "metadata": {},
      "source": [
        "### Calculating the global mean and variance of the motors errors + Fit I,0,I_error and O_error to this global mean and variance "
      ]
    },
    {
      "cell_type": "code",
      "execution_count": 20,
      "metadata": {},
      "outputs": [],
      "source": [
        "mean_motor_error1 = np.mean(data_model['M1_error'])\n",
        "mean_motor_error2 = np.mean(data_model['M2_error'])\n",
        "mean_motor_error3 = np.mean(data_model['M3_error'])\n",
        "\n",
        "std_motor_error1 = np.std(data_model['M1_error'])\n",
        "std_motor_error2 = np.std(data_model['M2_error'])\n",
        "std_motor_error3 = np.std(data_model['M3_error'])\n",
        "\n",
        "mean_motors = (mean_motor_error1+mean_motor_error2+mean_motor_error3)/3\n",
        "std_motors = (std_motor_error1+std_motor_error2+std_motor_error3)/3"
      ]
    },
    {
      "cell_type": "code",
      "execution_count": 21,
      "metadata": {},
      "outputs": [
        {
          "name": "stdout",
          "output_type": "stream",
          "text": [
            "-0.045458604279763275 0.2670333006545897\n"
          ]
        }
      ],
      "source": [
        "print(mean_motors, std_motors)\n"
      ]
    },
    {
      "cell_type": "code",
      "execution_count": 22,
      "metadata": {},
      "outputs": [],
      "source": [
        "from sklearn.preprocessing import StandardScaler\n",
        "incli = np.array(data_model['I']).reshape(-1,1)\n",
        "incli = StandardScaler().fit_transform(incli)\n",
        "incli_adjusted = incli * std_motors + mean_motors\n",
        "#data_model['I'] = incli_adjusted\n"
      ]
    },
    {
      "cell_type": "code",
      "execution_count": 23,
      "metadata": {},
      "outputs": [
        {
          "data": {
            "text/plain": [
              "<matplotlib.collections.PathCollection at 0x7fdbf78c3910>"
            ]
          },
          "execution_count": 23,
          "metadata": {},
          "output_type": "execute_result"
        },
        {
          "data": {
            "image/png": "[encoded data removed]",
            "text/plain": [
              "<Figure size 640x480 with 1 Axes>"
            ]
          },
          "metadata": {},
          "output_type": "display_data"
        }
      ],
      "source": [
        "#plt.hist(incli_adjusted, bins=50)\n",
        "plt.scatter(data_model['I'], incli_adjusted)"
      ]
    },
    {
      "cell_type": "code",
      "execution_count": 22,
      "metadata": {},
      "outputs": [
        {
          "data": {
            "text/plain": [
              "355"
            ]
          },
          "execution_count": 22,
          "metadata": {},
          "output_type": "execute_result"
        }
      ],
      "source": [
        "data_model['O'].max()"
      ]
    },
    {
      "cell_type": "code",
      "execution_count": 24,
      "metadata": {},
      "outputs": [
        {
          "data": {
            "text/plain": [
              "<matplotlib.collections.PathCollection at 0x7fdbf777ecb0>"
            ]
          },
          "execution_count": 24,
          "metadata": {},
          "output_type": "execute_result"
        },
        {
          "data": {
            "image/png": "[encoded data removed]",
            "text/plain": [
              "<Figure size 640x480 with 1 Axes>"
            ]
          },
          "metadata": {},
          "output_type": "display_data"
        }
      ],
      "source": [
        "orient = np.array(data_model['O']).reshape(-1,1)\n",
        "orient = StandardScaler().fit_transform(orient)\n",
        "orient_adjusted = orient * std_motors + mean_motors\n",
        "#data_model['O'] = orient_adjusted\n",
        "#plt.hist(orient_adjusted, bins=50)\n",
        "plt.scatter(data_model['O'], orient_adjusted)"
      ]
    },
    {
      "cell_type": "code",
      "execution_count": 26,
      "metadata": {},
      "outputs": [
        {
          "name": "stderr",
          "output_type": "stream",
          "text": [
            "/tmp/ipykernel_5563/2186265622.py:4: SettingWithCopyWarning: \n",
            "A value is trying to be set on a copy of a slice from a DataFrame.\n",
            "Try using .loc[row_indexer,col_indexer] = value instead\n",
            "\n",
            "See the caveats in the documentation: https://pandas.pydata.org/pandas-docs/stable/user_guide/indexing.html#returning-a-view-versus-a-copy\n",
            "  data_model['I_error'] = incli_error_adjusted\n"
          ]
        },
        {
          "data": {
            "text/plain": [
              "(array([1.400e+01, 3.500e+01, 5.600e+01, 3.600e+01, 1.340e+02, 7.760e+02,\n",
              "        5.270e+02, 4.320e+02, 6.830e+02, 9.100e+02, 8.220e+02, 1.558e+03,\n",
              "        1.007e+03, 1.225e+03, 1.607e+03, 1.370e+03, 1.732e+03, 1.663e+03,\n",
              "        1.999e+03, 1.987e+03, 2.447e+03, 2.244e+03, 2.929e+03, 2.536e+03,\n",
              "        2.504e+03, 3.079e+03, 3.091e+03, 3.562e+03, 3.356e+03, 3.464e+03,\n",
              "        3.162e+03, 2.724e+03, 2.839e+03, 1.857e+03, 1.991e+03, 1.751e+03,\n",
              "        1.150e+03, 1.152e+03, 1.296e+03, 1.023e+03, 8.870e+02, 9.300e+02,\n",
              "        6.550e+02, 5.750e+02, 5.040e+02, 1.470e+02, 1.910e+02, 1.080e+02,\n",
              "        3.000e+00, 6.000e+00]),\n",
              " array([-0.8080899 , -0.77837355, -0.7486572 , -0.71894086, -0.68922451,\n",
              "        -0.65950817, -0.62979182, -0.60007548, -0.57035913, -0.54064279,\n",
              "        -0.51092644, -0.4812101 , -0.45149375, -0.4217774 , -0.39206106,\n",
              "        -0.36234471, -0.33262837, -0.30291202, -0.27319568, -0.24347933,\n",
              "        -0.21376299, -0.18404664, -0.1543303 , -0.12461395, -0.0948976 ,\n",
              "        -0.06518126, -0.03546491, -0.00574857,  0.02396778,  0.05368412,\n",
              "         0.08340047,  0.11311681,  0.14283316,  0.1725495 ,  0.20226585,\n",
              "         0.2319822 ,  0.26169854,  0.29141489,  0.32113123,  0.35084758,\n",
              "         0.38056392,  0.41028027,  0.43999661,  0.46971296,  0.4994293 ,\n",
              "         0.52914565,  0.558862  ,  0.58857834,  0.61829469,  0.64801103,\n",
              "         0.67772738]),\n",
              " <BarContainer object of 50 artists>)"
            ]
          },
          "execution_count": 26,
          "metadata": {},
          "output_type": "execute_result"
        },
        {
          "data": {
            "image/png": "[encoded data removed]",
            "text/plain": [
              "<Figure size 640x480 with 1 Axes>"
            ]
          },
          "metadata": {},
          "output_type": "display_data"
        }
      ],
      "source": [
        "incli_error = np.array(data_model['I_error']).reshape(-1,1)\n",
        "incli_error = StandardScaler().fit_transform(incli_error)\n",
        "incli_error_adjusted = incli_error * std_motors + mean_motors\n",
        "data_model['I_error'] = incli_error_adjusted\n",
        "plt.hist(incli_error_adjusted, bins=50)\n",
        "#plt.scatter(data_model['I_error'], incli_error_adjusted)"
      ]
    },
    {
      "cell_type": "code",
      "execution_count": 27,
      "metadata": {},
      "outputs": [
        {
          "data": {
            "text/plain": [
              "(array([ 183.,  153.,  283.,  264.,  453.,  606.,  472.,  588.,  563.,\n",
              "         506.,  650.,  676.,  950., 1116., 1219., 1666., 1859., 2345.,\n",
              "        2521., 2607., 2774., 3236., 3358., 3853., 3182., 2805., 2917.,\n",
              "        2754., 3477., 2976., 2605., 2329., 2084., 1817., 1588., 1378.,\n",
              "         930.,  953., 1021.,  737.,  468.,  792.,  852.,  638.,  395.,\n",
              "         385.,  341.,  231.,  110.,   70.]),\n",
              " array([-15.74468628, -15.06897039, -14.39325451, -13.71753862,\n",
              "        -13.04182273, -12.36610684, -11.69039096, -11.01467507,\n",
              "        -10.33895918,  -9.66324329,  -8.98752741,  -8.31181152,\n",
              "         -7.63609563,  -6.96037974,  -6.28466386,  -5.60894797,\n",
              "         -4.93323208,  -4.25751619,  -3.5818003 ,  -2.90608442,\n",
              "         -2.23036853,  -1.55465264,  -0.87893675,  -0.20322087,\n",
              "          0.47249502,   1.14821091,   1.8239268 ,   2.49964268,\n",
              "          3.17535857,   3.85107446,   4.52679035,   5.20250623,\n",
              "          5.87822212,   6.55393801,   7.2296539 ,   7.90536978,\n",
              "          8.58108567,   9.25680156,   9.93251745,  10.60823333,\n",
              "         11.28394922,  11.95966511,  12.635381  ,  13.31109688,\n",
              "         13.98681277,  14.66252866,  15.33824455,  16.01396044,\n",
              "         16.68967632,  17.36539221,  18.0411081 ]),\n",
              " <BarContainer object of 50 artists>)"
            ]
          },
          "execution_count": 27,
          "metadata": {},
          "output_type": "execute_result"
        },
        {
          "data": {
            "image/png": "[encoded data removed]",
            "text/plain": [
              "<Figure size 640x480 with 2 Axes>"
            ]
          },
          "metadata": {},
          "output_type": "display_data"
        }
      ],
      "source": [
        "fig, axs = plt.subplots(2)\n",
        "axs[0].hist(data_model['I_error'], bins=100, label='Motor1_error')\n",
        "axs[1].hist(data_model['O_error'], bins=50, label='Motor1_error')"
      ]
    },
    {
      "cell_type": "code",
      "execution_count": 40,
      "metadata": {},
      "outputs": [
        {
          "data": {
            "text/plain": [
              "<matplotlib.collections.PathCollection at 0x7fb4691fb2e0>"
            ]
          },
          "execution_count": 40,
          "metadata": {},
          "output_type": "execute_result"
        },
        {
          "data": {
            "image/png": "[encoded data removed]",
            "text/plain": [
              "<Figure size 640x480 with 1 Axes>"
            ]
          },
          "metadata": {},
          "output_type": "display_data"
        }
      ],
      "source": [
        "orient_error = np.array(data_model['O_error']).reshape(-1,1)\n",
        "orient_error = StandardScaler().fit_transform(orient_error)\n",
        "orient_error_adjusted = orient_error * std_motors + mean_motors\n",
        "#data_model['O_error'] = orient_error_adjusted\n",
        "#plt.hist(orient_error_adjusted, bins=50)\n",
        "\n",
        "plt.scatter(data_model['O_error'], orient_error_adjusted)"
      ]
    },
    {
      "cell_type": "code",
      "execution_count": 160,
      "metadata": {},
      "outputs": [
        {
          "data": {
            "text/plain": [
              "22796    35\n",
              "24136    35\n",
              "24558    35\n",
              "23978    35\n",
              "22025    35\n",
              "         ..\n",
              "9915     15\n",
              "5012     10\n",
              "11709    20\n",
              "18134    30\n",
              "4110     10\n",
              "Name: I, Length: 70736, dtype: int64"
            ]
          },
          "execution_count": 160,
          "metadata": {},
          "output_type": "execute_result"
        }
      ],
      "source": [
        "data_model['I']"
      ]
    },
    {
      "cell_type": "code",
      "execution_count": 163,
      "metadata": {},
      "outputs": [
        {
          "name": "stderr",
          "output_type": "stream",
          "text": [
            "/tmp/ipykernel_5528/4292559868.py:1: SettingWithCopyWarning: \n",
            "A value is trying to be set on a copy of a slice from a DataFrame.\n",
            "Try using .loc[row_indexer,col_indexer] = value instead\n",
            "\n",
            "See the caveats in the documentation: https://pandas.pydata.org/pandas-docs/stable/user_guide/indexing.html#returning-a-view-versus-a-copy\n",
            "  data_model['I'] = [(i - mean_motors) / std_motors for i in data_model['I']]\n"
          ]
        }
      ],
      "source": [
        "'''data_model['I'] = [(i - mean_motors) / std_motors for i in data_model['I']]\n",
        "DOES NOT WORK BECAUSE IT SCALES UP TO MUCH THE ANGLES std = 0.26'''"
      ]
    },
    {
      "cell_type": "code",
      "execution_count": 164,
      "metadata": {},
      "outputs": [
        {
          "data": {
            "text/plain": [
              "22796    131.240031\n",
              "24136    131.240031\n",
              "24558    131.240031\n",
              "23978    131.240031\n",
              "22025    131.240031\n",
              "            ...    \n",
              "9915      56.343005\n",
              "5012      37.618749\n",
              "11709     75.067261\n",
              "18134    112.515774\n",
              "4110      37.618749\n",
              "Name: I, Length: 70736, dtype: float64"
            ]
          },
          "execution_count": 164,
          "metadata": {},
          "output_type": "execute_result"
        }
      ],
      "source": [
        "data_model['I']"
      ]
    },
    {
      "cell_type": "code",
      "execution_count": 26,
      "metadata": {},
      "outputs": [
        {
          "data": {
            "text/html": [
              "<div>\n",
              "<style scoped>\n",
              "    .dataframe tbody tr th:only-of-type {\n",
              "        vertical-align: middle;\n",
              "    }\n",
              "\n",
              "    .dataframe tbody tr th {\n",
              "        vertical-align: top;\n",
              "    }\n",
              "\n",
              "    .dataframe thead th {\n",
              "        text-align: right;\n",
              "    }\n",
              "</style>\n",
              "<table border=\"1\" class=\"dataframe\">\n",
              "  <thead>\n",
              "    <tr style=\"text-align: right;\">\n",
              "      <th></th>\n",
              "      <th>I</th>\n",
              "      <th>O</th>\n",
              "      <th>I_error</th>\n",
              "      <th>O_error</th>\n",
              "      <th>M1_error</th>\n",
              "      <th>M2_error</th>\n",
              "      <th>M3_error</th>\n",
              "    </tr>\n",
              "  </thead>\n",
              "  <tbody>\n",
              "    <tr>\n",
              "      <th>4</th>\n",
              "      <td>-0.491362</td>\n",
              "      <td>-0.493563</td>\n",
              "      <td>-0.462699</td>\n",
              "      <td>-0.534530</td>\n",
              "      <td>0.283965</td>\n",
              "      <td>-0.107491</td>\n",
              "      <td>-0.001138</td>\n",
              "    </tr>\n",
              "    <tr>\n",
              "      <th>5</th>\n",
              "      <td>-0.491362</td>\n",
              "      <td>-0.493563</td>\n",
              "      <td>-0.710462</td>\n",
              "      <td>-0.469389</td>\n",
              "      <td>0.004949</td>\n",
              "      <td>0.047369</td>\n",
              "      <td>0.130136</td>\n",
              "    </tr>\n",
              "    <tr>\n",
              "      <th>78</th>\n",
              "      <td>-0.491362</td>\n",
              "      <td>-0.493563</td>\n",
              "      <td>-0.807286</td>\n",
              "      <td>-0.263880</td>\n",
              "      <td>-0.307607</td>\n",
              "      <td>0.125714</td>\n",
              "      <td>0.204067</td>\n",
              "    </tr>\n",
              "    <tr>\n",
              "      <th>79</th>\n",
              "      <td>-0.491362</td>\n",
              "      <td>-0.493563</td>\n",
              "      <td>-0.808090</td>\n",
              "      <td>-0.245155</td>\n",
              "      <td>-0.305946</td>\n",
              "      <td>0.127783</td>\n",
              "      <td>0.202154</td>\n",
              "    </tr>\n",
              "    <tr>\n",
              "      <th>80</th>\n",
              "      <td>-0.491362</td>\n",
              "      <td>-0.493563</td>\n",
              "      <td>-0.799690</td>\n",
              "      <td>-0.235989</td>\n",
              "      <td>-0.299449</td>\n",
              "      <td>0.122465</td>\n",
              "      <td>0.199909</td>\n",
              "    </tr>\n",
              "    <tr>\n",
              "      <th>...</th>\n",
              "      <td>...</td>\n",
              "      <td>...</td>\n",
              "      <td>...</td>\n",
              "      <td>...</td>\n",
              "      <td>...</td>\n",
              "      <td>...</td>\n",
              "      <td>...</td>\n",
              "    </tr>\n",
              "    <tr>\n",
              "      <th>25195</th>\n",
              "      <td>0.346518</td>\n",
              "      <td>0.400712</td>\n",
              "      <td>-0.109409</td>\n",
              "      <td>-0.063479</td>\n",
              "      <td>0.148129</td>\n",
              "      <td>-0.109646</td>\n",
              "      <td>-0.185423</td>\n",
              "    </tr>\n",
              "    <tr>\n",
              "      <th>25196</th>\n",
              "      <td>0.346518</td>\n",
              "      <td>0.400712</td>\n",
              "      <td>-0.096807</td>\n",
              "      <td>-0.056588</td>\n",
              "      <td>0.156380</td>\n",
              "      <td>-0.106395</td>\n",
              "      <td>-0.197593</td>\n",
              "    </tr>\n",
              "    <tr>\n",
              "      <th>25197</th>\n",
              "      <td>0.346518</td>\n",
              "      <td>0.400712</td>\n",
              "      <td>-0.097614</td>\n",
              "      <td>-0.061323</td>\n",
              "      <td>0.156251</td>\n",
              "      <td>-0.112940</td>\n",
              "      <td>-0.186392</td>\n",
              "    </tr>\n",
              "    <tr>\n",
              "      <th>25198</th>\n",
              "      <td>0.346518</td>\n",
              "      <td>0.400712</td>\n",
              "      <td>-0.110210</td>\n",
              "      <td>-0.067505</td>\n",
              "      <td>0.148587</td>\n",
              "      <td>-0.115652</td>\n",
              "      <td>-0.170750</td>\n",
              "    </tr>\n",
              "    <tr>\n",
              "      <th>25199</th>\n",
              "      <td>0.346518</td>\n",
              "      <td>0.400712</td>\n",
              "      <td>-0.113071</td>\n",
              "      <td>-0.068772</td>\n",
              "      <td>0.144873</td>\n",
              "      <td>-0.120944</td>\n",
              "      <td>-0.174647</td>\n",
              "    </tr>\n",
              "  </tbody>\n",
              "</table>\n",
              "<p>70736 rows × 7 columns</p>\n",
              "</div>"
            ],
            "text/plain": [
              "              I         O   I_error   O_error  M1_error  M2_error  M3_error\n",
              "4     -0.491362 -0.493563 -0.462699 -0.534530  0.283965 -0.107491 -0.001138\n",
              "5     -0.491362 -0.493563 -0.710462 -0.469389  0.004949  0.047369  0.130136\n",
              "78    -0.491362 -0.493563 -0.807286 -0.263880 -0.307607  0.125714  0.204067\n",
              "79    -0.491362 -0.493563 -0.808090 -0.245155 -0.305946  0.127783  0.202154\n",
              "80    -0.491362 -0.493563 -0.799690 -0.235989 -0.299449  0.122465  0.199909\n",
              "...         ...       ...       ...       ...       ...       ...       ...\n",
              "25195  0.346518  0.400712 -0.109409 -0.063479  0.148129 -0.109646 -0.185423\n",
              "25196  0.346518  0.400712 -0.096807 -0.056588  0.156380 -0.106395 -0.197593\n",
              "25197  0.346518  0.400712 -0.097614 -0.061323  0.156251 -0.112940 -0.186392\n",
              "25198  0.346518  0.400712 -0.110210 -0.067505  0.148587 -0.115652 -0.170750\n",
              "25199  0.346518  0.400712 -0.113071 -0.068772  0.144873 -0.120944 -0.174647\n",
              "\n",
              "[70736 rows x 7 columns]"
            ]
          },
          "execution_count": 26,
          "metadata": {},
          "output_type": "execute_result"
        }
      ],
      "source": [
        "data_model"
      ]
    },
    {
      "cell_type": "code",
      "execution_count": 252,
      "metadata": {},
      "outputs": [
        {
          "data": {
            "text/plain": [
              "(array([5.000e+00, 9.000e+00, 1.000e+01, 2.500e+01, 2.300e+01, 3.300e+01,\n",
              "        1.800e+01, 1.800e+01, 3.400e+01, 1.000e+02, 2.570e+02, 5.190e+02,\n",
              "        2.740e+02, 2.530e+02, 2.460e+02, 1.860e+02, 2.830e+02, 4.000e+02,\n",
              "        3.540e+02, 5.560e+02, 3.600e+02, 4.620e+02, 8.320e+02, 7.260e+02,\n",
              "        4.880e+02, 5.190e+02, 5.680e+02, 6.570e+02, 7.900e+02, 8.170e+02,\n",
              "        5.810e+02, 7.890e+02, 9.140e+02, 8.180e+02, 8.550e+02, 8.080e+02,\n",
              "        1.003e+03, 9.960e+02, 1.078e+03, 9.090e+02, 1.150e+03, 1.297e+03,\n",
              "        1.157e+03, 1.087e+03, 1.322e+03, 1.607e+03, 1.456e+03, 1.080e+03,\n",
              "        1.229e+03, 1.275e+03, 1.484e+03, 1.595e+03, 1.476e+03, 1.615e+03,\n",
              "        1.871e+03, 1.691e+03, 1.683e+03, 1.673e+03, 1.804e+03, 1.660e+03,\n",
              "        1.764e+03, 1.398e+03, 1.326e+03, 1.398e+03, 1.380e+03, 1.459e+03,\n",
              "        1.015e+03, 8.420e+02, 9.740e+02, 1.017e+03, 9.370e+02, 8.140e+02,\n",
              "        6.460e+02, 5.040e+02, 5.970e+02, 5.550e+02, 6.820e+02, 6.140e+02,\n",
              "        4.880e+02, 5.350e+02, 3.890e+02, 4.980e+02, 4.820e+02, 4.480e+02,\n",
              "        3.320e+02, 3.230e+02, 2.420e+02, 3.330e+02, 2.950e+02, 2.090e+02,\n",
              "        1.000e+02, 4.700e+01, 9.000e+01, 1.010e+02, 8.300e+01, 2.500e+01,\n",
              "        2.000e+00, 1.000e+00, 2.000e+00, 4.000e+00]),\n",
              " array([-0.8080899 , -0.79323172, -0.77837355, -0.76351538, -0.7486572 ,\n",
              "        -0.73379903, -0.71894086, -0.70408269, -0.68922451, -0.67436634,\n",
              "        -0.65950817, -0.64465   , -0.62979182, -0.61493365, -0.60007548,\n",
              "        -0.5852173 , -0.57035913, -0.55550096, -0.54064279, -0.52578461,\n",
              "        -0.51092644, -0.49606827, -0.4812101 , -0.46635192, -0.45149375,\n",
              "        -0.43663558, -0.4217774 , -0.40691923, -0.39206106, -0.37720289,\n",
              "        -0.36234471, -0.34748654, -0.33262837, -0.3177702 , -0.30291202,\n",
              "        -0.28805385, -0.27319568, -0.2583375 , -0.24347933, -0.22862116,\n",
              "        -0.21376299, -0.19890481, -0.18404664, -0.16918847, -0.1543303 ,\n",
              "        -0.13947212, -0.12461395, -0.10975578, -0.0948976 , -0.08003943,\n",
              "        -0.06518126, -0.05032309, -0.03546491, -0.02060674, -0.00574857,\n",
              "         0.0091096 ,  0.02396778,  0.03882595,  0.05368412,  0.0685423 ,\n",
              "         0.08340047,  0.09825864,  0.11311681,  0.12797499,  0.14283316,\n",
              "         0.15769133,  0.1725495 ,  0.18740768,  0.20226585,  0.21712402,\n",
              "         0.2319822 ,  0.24684037,  0.26169854,  0.27655671,  0.29141489,\n",
              "         0.30627306,  0.32113123,  0.3359894 ,  0.35084758,  0.36570575,\n",
              "         0.38056392,  0.3954221 ,  0.41028027,  0.42513844,  0.43999661,\n",
              "         0.45485479,  0.46971296,  0.48457113,  0.4994293 ,  0.51428748,\n",
              "         0.52914565,  0.54400382,  0.558862  ,  0.57372017,  0.58857834,\n",
              "         0.60343651,  0.61829469,  0.63315286,  0.64801103,  0.6628692 ,\n",
              "         0.67772738]),\n",
              " <BarContainer object of 100 artists>)"
            ]
          },
          "execution_count": 252,
          "metadata": {},
          "output_type": "execute_result"
        },
        {
          "data": {
            "image/png": "[encoded data removed]",
            "text/plain": [
              "<Figure size 640x480 with 1 Axes>"
            ]
          },
          "metadata": {},
          "output_type": "display_data"
        }
      ],
      "source": [
        "plt.hist(data_model['I_error'], bins=100, label='I_error', color='black')"
      ]
    },
    {
      "attachments": {},
      "cell_type": "markdown",
      "metadata": {},
      "source": [
        "### Train process"
      ]
    },
    {
      "cell_type": "code",
      "execution_count": 14,
      "metadata": {
        "colab": {
          "base_uri": "https://localhost:8080/",
          "height": 34
        },
        "id": "AEpX3heI4o8e",
        "outputId": "30d4aa89-eb42-49be-bcd9-25238221577f"
      },
      "outputs": [],
      "source": [
        "'''from sklearn.preprocessing import Normalizer\n",
        "\n",
        "from sklearn.utils import shuffle \n",
        "X, y = shuffle(X, y, random_state=13)\n",
        "i = 0\n",
        "\n",
        "plt.figure(figsize=(20,15))\n",
        "\n",
        "\n",
        "X_train, X_test, y_train, y_test = train_test_split(X, y, test_size=0.3, random_state=0)\n",
        "\n",
        "scaler_x = Normalizer().fit(X)\n",
        "scaler_y = Normalizer().fit(y)\n",
        "\n",
        "X_train_norm = scaler_x.transform(X_train)\n",
        "X_test_norm = scaler_x.transform(X_test)'''\n",
        "\n",
        "# Parameter of train test split function for having balance data in train test split?\n",
        "from sklearn.utils import shuffle \n",
        "X = data_model.iloc[:,:4]\n",
        "y = data_model.iloc[:,4:]\n",
        "\n",
        "#X, y = shuffle(X, y, random_state=13)\n",
        "\n",
        "X_train, X_test, y_train, y_test = train_test_split(X, y, test_size=0.3, random_state=0)"
      ]
    },
    {
      "cell_type": "code",
      "execution_count": 29,
      "metadata": {
        "colab": {
          "background_save": true,
          "base_uri": "https://localhost:8080/"
        },
        "id": "hVuXtpo7WDPB",
        "outputId": "b48e5ecb-573f-4879-bc94-01cd08dab46b"
      },
      "outputs": [
        {
          "name": "stdout",
          "output_type": "stream",
          "text": [
            "Fitting 5 folds for each of 36 candidates, totalling 180 fits\n"
          ]
        },
        {
          "name": "stderr",
          "output_type": "stream",
          "text": [
            "/home/sofia/.local/lib/python3.10/site-packages/sklearn/utils/extmath.py:153: RuntimeWarning: overflow encountered in matmul\n",
            "  ret = a @ b\n",
            "/home/sofia/.local/lib/python3.10/site-packages/sklearn/utils/extmath.py:153: RuntimeWarning: invalid value encountered in matmul\n",
            "  ret = a @ b\n",
            "/home/sofia/.local/lib/python3.10/site-packages/sklearn/neural_network/_base.py:174: RuntimeWarning: overflow encountered in square\n",
            "  return ((y_true - y_pred) ** 2).mean() / 2\n",
            "/home/sofia/.local/lib/python3.10/site-packages/sklearn/utils/extmath.py:153: RuntimeWarning: overflow encountered in matmul\n",
            "  ret = a @ b\n",
            "/home/sofia/.local/lib/python3.10/site-packages/sklearn/utils/extmath.py:153: RuntimeWarning: invalid value encountered in matmul\n",
            "  ret = a @ b\n",
            "/home/sofia/.local/lib/python3.10/site-packages/sklearn/utils/extmath.py:153: RuntimeWarning: overflow encountered in matmul\n",
            "  ret = a @ b\n",
            "/home/sofia/.local/lib/python3.10/site-packages/sklearn/utils/extmath.py:153: RuntimeWarning: invalid value encountered in matmul\n",
            "  ret = a @ b\n",
            "/home/sofia/.local/lib/python3.10/site-packages/sklearn/neural_network/_base.py:174: RuntimeWarning: overflow encountered in square\n",
            "  return ((y_true - y_pred) ** 2).mean() / 2\n",
            "/home/sofia/.local/lib/python3.10/site-packages/sklearn/utils/extmath.py:153: RuntimeWarning: overflow encountered in matmul\n",
            "  ret = a @ b\n",
            "/home/sofia/.local/lib/python3.10/site-packages/sklearn/utils/extmath.py:153: RuntimeWarning: invalid value encountered in matmul\n",
            "  ret = a @ b\n",
            "/home/sofia/.local/lib/python3.10/site-packages/sklearn/utils/extmath.py:153: RuntimeWarning: overflow encountered in matmul\n",
            "  ret = a @ b\n",
            "/home/sofia/.local/lib/python3.10/site-packages/sklearn/utils/extmath.py:153: RuntimeWarning: invalid value encountered in matmul\n",
            "  ret = a @ b\n",
            "/home/sofia/.local/lib/python3.10/site-packages/sklearn/utils/extmath.py:153: RuntimeWarning: overflow encountered in matmul\n",
            "  ret = a @ b\n",
            "/home/sofia/.local/lib/python3.10/site-packages/sklearn/utils/extmath.py:153: RuntimeWarning: invalid value encountered in matmul\n",
            "  ret = a @ b\n"
          ]
        },
        {
          "ename": "KeyboardInterrupt",
          "evalue": "",
          "output_type": "error",
          "traceback": [
            "\u001b[0;31m---------------------------------------------------------------------------\u001b[0m",
            "\u001b[0;31mKeyboardInterrupt\u001b[0m                         Traceback (most recent call last)",
            "Cell \u001b[0;32mIn[29], line 15\u001b[0m\n\u001b[1;32m      8\u001b[0m params \u001b[39m=\u001b[39m {\u001b[39m'\u001b[39m\u001b[39mactivation\u001b[39m\u001b[39m'\u001b[39m: [\u001b[39m'\u001b[39m\u001b[39mrelu\u001b[39m\u001b[39m'\u001b[39m, \u001b[39m'\u001b[39m\u001b[39mtanh\u001b[39m\u001b[39m'\u001b[39m, \u001b[39m'\u001b[39m\u001b[39mlogistic\u001b[39m\u001b[39m'\u001b[39m],\n\u001b[1;32m      9\u001b[0m           \u001b[39m'\u001b[39m\u001b[39mhidden_layer_sizes\u001b[39m\u001b[39m'\u001b[39m: [(\u001b[39m50\u001b[39m,\u001b[39m50\u001b[39m,\u001b[39m50\u001b[39m,\u001b[39m50\u001b[39m), (\u001b[39m50\u001b[39m,\u001b[39m75\u001b[39m,\u001b[39m100\u001b[39m,\u001b[39m125\u001b[39m), (\u001b[39m100\u001b[39m,\u001b[39m100\u001b[39m,\u001b[39m100\u001b[39m,\u001b[39m100\u001b[39m)],\n\u001b[1;32m     10\u001b[0m           \u001b[39m'\u001b[39m\u001b[39msolver\u001b[39m\u001b[39m'\u001b[39m: [\u001b[39m'\u001b[39m\u001b[39madam\u001b[39m\u001b[39m'\u001b[39m, \u001b[39m'\u001b[39m\u001b[39msgd\u001b[39m\u001b[39m'\u001b[39m],\n\u001b[1;32m     11\u001b[0m           \u001b[39m'\u001b[39m\u001b[39mlearning_rate\u001b[39m\u001b[39m'\u001b[39m : [\u001b[39m'\u001b[39m\u001b[39mconstant\u001b[39m\u001b[39m'\u001b[39m, \u001b[39m'\u001b[39m\u001b[39madaptive\u001b[39m\u001b[39m'\u001b[39m]\n\u001b[1;32m     12\u001b[0m          }\n\u001b[1;32m     14\u001b[0m mlp_regressor_grid \u001b[39m=\u001b[39m GridSearchCV(MLPRegressor(random_state\u001b[39m=\u001b[39m\u001b[39m123\u001b[39m), param_grid\u001b[39m=\u001b[39mparams, n_jobs\u001b[39m=\u001b[39m\u001b[39m-\u001b[39m\u001b[39m1\u001b[39m, cv\u001b[39m=\u001b[39m\u001b[39m5\u001b[39m, verbose\u001b[39m=\u001b[39m\u001b[39m5\u001b[39m)\n\u001b[0;32m---> 15\u001b[0m mlp_regressor_grid\u001b[39m.\u001b[39;49mfit(X_train,y_train)\n\u001b[1;32m     17\u001b[0m \u001b[39mprint\u001b[39m(\u001b[39m'\u001b[39m\u001b[39mTrain Accuracy : \u001b[39m\u001b[39m%.3f\u001b[39;00m\u001b[39m'\u001b[39m\u001b[39m%\u001b[39mmlp_regressor_grid\u001b[39m.\u001b[39mbest_estimator_\u001b[39m.\u001b[39mscore(X_train, y_train))\n\u001b[1;32m     18\u001b[0m \u001b[39mprint\u001b[39m(\u001b[39m'\u001b[39m\u001b[39mTest Accuracy : \u001b[39m\u001b[39m%.3f\u001b[39;00m\u001b[39m'\u001b[39m\u001b[39m%\u001b[39mmlp_regressor_grid\u001b[39m.\u001b[39mbest_estimator_\u001b[39m.\u001b[39mscore(X_test, y_test))\n",
            "File \u001b[0;32m~/.local/lib/python3.10/site-packages/sklearn/model_selection/_search.py:891\u001b[0m, in \u001b[0;36mBaseSearchCV.fit\u001b[0;34m(self, X, y, groups, **fit_params)\u001b[0m\n\u001b[1;32m    885\u001b[0m     results \u001b[39m=\u001b[39m \u001b[39mself\u001b[39m\u001b[39m.\u001b[39m_format_results(\n\u001b[1;32m    886\u001b[0m         all_candidate_params, n_splits, all_out, all_more_results\n\u001b[1;32m    887\u001b[0m     )\n\u001b[1;32m    889\u001b[0m     \u001b[39mreturn\u001b[39;00m results\n\u001b[0;32m--> 891\u001b[0m \u001b[39mself\u001b[39;49m\u001b[39m.\u001b[39;49m_run_search(evaluate_candidates)\n\u001b[1;32m    893\u001b[0m \u001b[39m# multimetric is determined here because in the case of a callable\u001b[39;00m\n\u001b[1;32m    894\u001b[0m \u001b[39m# self.scoring the return type is only known after calling\u001b[39;00m\n\u001b[1;32m    895\u001b[0m first_test_score \u001b[39m=\u001b[39m all_out[\u001b[39m0\u001b[39m][\u001b[39m\"\u001b[39m\u001b[39mtest_scores\u001b[39m\u001b[39m\"\u001b[39m]\n",
            "File \u001b[0;32m~/.local/lib/python3.10/site-packages/sklearn/model_selection/_search.py:1392\u001b[0m, in \u001b[0;36mGridSearchCV._run_search\u001b[0;34m(self, evaluate_candidates)\u001b[0m\n\u001b[1;32m   1390\u001b[0m \u001b[39mdef\u001b[39;00m \u001b[39m_run_search\u001b[39m(\u001b[39mself\u001b[39m, evaluate_candidates):\n\u001b[1;32m   1391\u001b[0m \u001b[39m    \u001b[39m\u001b[39m\"\"\"Search all candidates in param_grid\"\"\"\u001b[39;00m\n\u001b[0;32m-> 1392\u001b[0m     evaluate_candidates(ParameterGrid(\u001b[39mself\u001b[39;49m\u001b[39m.\u001b[39;49mparam_grid))\n",
            "File \u001b[0;32m~/.local/lib/python3.10/site-packages/sklearn/model_selection/_search.py:838\u001b[0m, in \u001b[0;36mBaseSearchCV.fit.<locals>.evaluate_candidates\u001b[0;34m(candidate_params, cv, more_results)\u001b[0m\n\u001b[1;32m    830\u001b[0m \u001b[39mif\u001b[39;00m \u001b[39mself\u001b[39m\u001b[39m.\u001b[39mverbose \u001b[39m>\u001b[39m \u001b[39m0\u001b[39m:\n\u001b[1;32m    831\u001b[0m     \u001b[39mprint\u001b[39m(\n\u001b[1;32m    832\u001b[0m         \u001b[39m\"\u001b[39m\u001b[39mFitting \u001b[39m\u001b[39m{0}\u001b[39;00m\u001b[39m folds for each of \u001b[39m\u001b[39m{1}\u001b[39;00m\u001b[39m candidates,\u001b[39m\u001b[39m\"\u001b[39m\n\u001b[1;32m    833\u001b[0m         \u001b[39m\"\u001b[39m\u001b[39m totalling \u001b[39m\u001b[39m{2}\u001b[39;00m\u001b[39m fits\u001b[39m\u001b[39m\"\u001b[39m\u001b[39m.\u001b[39mformat(\n\u001b[1;32m    834\u001b[0m             n_splits, n_candidates, n_candidates \u001b[39m*\u001b[39m n_splits\n\u001b[1;32m    835\u001b[0m         )\n\u001b[1;32m    836\u001b[0m     )\n\u001b[0;32m--> 838\u001b[0m out \u001b[39m=\u001b[39m parallel(\n\u001b[1;32m    839\u001b[0m     delayed(_fit_and_score)(\n\u001b[1;32m    840\u001b[0m         clone(base_estimator),\n\u001b[1;32m    841\u001b[0m         X,\n\u001b[1;32m    842\u001b[0m         y,\n\u001b[1;32m    843\u001b[0m         train\u001b[39m=\u001b[39;49mtrain,\n\u001b[1;32m    844\u001b[0m         test\u001b[39m=\u001b[39;49mtest,\n\u001b[1;32m    845\u001b[0m         parameters\u001b[39m=\u001b[39;49mparameters,\n\u001b[1;32m    846\u001b[0m         split_progress\u001b[39m=\u001b[39;49m(split_idx, n_splits),\n\u001b[1;32m    847\u001b[0m         candidate_progress\u001b[39m=\u001b[39;49m(cand_idx, n_candidates),\n\u001b[1;32m    848\u001b[0m         \u001b[39m*\u001b[39;49m\u001b[39m*\u001b[39;49mfit_and_score_kwargs,\n\u001b[1;32m    849\u001b[0m     )\n\u001b[1;32m    850\u001b[0m     \u001b[39mfor\u001b[39;49;00m (cand_idx, parameters), (split_idx, (train, test)) \u001b[39min\u001b[39;49;00m product(\n\u001b[1;32m    851\u001b[0m         \u001b[39menumerate\u001b[39;49m(candidate_params), \u001b[39menumerate\u001b[39;49m(cv\u001b[39m.\u001b[39;49msplit(X, y, groups))\n\u001b[1;32m    852\u001b[0m     )\n\u001b[1;32m    853\u001b[0m )\n\u001b[1;32m    855\u001b[0m \u001b[39mif\u001b[39;00m \u001b[39mlen\u001b[39m(out) \u001b[39m<\u001b[39m \u001b[39m1\u001b[39m:\n\u001b[1;32m    856\u001b[0m     \u001b[39mraise\u001b[39;00m \u001b[39mValueError\u001b[39;00m(\n\u001b[1;32m    857\u001b[0m         \u001b[39m\"\u001b[39m\u001b[39mNo fits were performed. \u001b[39m\u001b[39m\"\u001b[39m\n\u001b[1;32m    858\u001b[0m         \u001b[39m\"\u001b[39m\u001b[39mWas the CV iterator empty? \u001b[39m\u001b[39m\"\u001b[39m\n\u001b[1;32m    859\u001b[0m         \u001b[39m\"\u001b[39m\u001b[39mWere there no candidates?\u001b[39m\u001b[39m\"\u001b[39m\n\u001b[1;32m    860\u001b[0m     )\n",
            "File \u001b[0;32m~/.local/lib/python3.10/site-packages/joblib/parallel.py:1098\u001b[0m, in \u001b[0;36mParallel.__call__\u001b[0;34m(self, iterable)\u001b[0m\n\u001b[1;32m   1095\u001b[0m     \u001b[39mself\u001b[39m\u001b[39m.\u001b[39m_iterating \u001b[39m=\u001b[39m \u001b[39mFalse\u001b[39;00m\n\u001b[1;32m   1097\u001b[0m \u001b[39mwith\u001b[39;00m \u001b[39mself\u001b[39m\u001b[39m.\u001b[39m_backend\u001b[39m.\u001b[39mretrieval_context():\n\u001b[0;32m-> 1098\u001b[0m     \u001b[39mself\u001b[39;49m\u001b[39m.\u001b[39;49mretrieve()\n\u001b[1;32m   1099\u001b[0m \u001b[39m# Make sure that we get a last message telling us we are done\u001b[39;00m\n\u001b[1;32m   1100\u001b[0m elapsed_time \u001b[39m=\u001b[39m time\u001b[39m.\u001b[39mtime() \u001b[39m-\u001b[39m \u001b[39mself\u001b[39m\u001b[39m.\u001b[39m_start_time\n",
            "File \u001b[0;32m~/.local/lib/python3.10/site-packages/joblib/parallel.py:975\u001b[0m, in \u001b[0;36mParallel.retrieve\u001b[0;34m(self)\u001b[0m\n\u001b[1;32m    973\u001b[0m \u001b[39mtry\u001b[39;00m:\n\u001b[1;32m    974\u001b[0m     \u001b[39mif\u001b[39;00m \u001b[39mgetattr\u001b[39m(\u001b[39mself\u001b[39m\u001b[39m.\u001b[39m_backend, \u001b[39m'\u001b[39m\u001b[39msupports_timeout\u001b[39m\u001b[39m'\u001b[39m, \u001b[39mFalse\u001b[39;00m):\n\u001b[0;32m--> 975\u001b[0m         \u001b[39mself\u001b[39m\u001b[39m.\u001b[39m_output\u001b[39m.\u001b[39mextend(job\u001b[39m.\u001b[39;49mget(timeout\u001b[39m=\u001b[39;49m\u001b[39mself\u001b[39;49m\u001b[39m.\u001b[39;49mtimeout))\n\u001b[1;32m    976\u001b[0m     \u001b[39melse\u001b[39;00m:\n\u001b[1;32m    977\u001b[0m         \u001b[39mself\u001b[39m\u001b[39m.\u001b[39m_output\u001b[39m.\u001b[39mextend(job\u001b[39m.\u001b[39mget())\n",
            "File \u001b[0;32m~/.local/lib/python3.10/site-packages/joblib/_parallel_backends.py:567\u001b[0m, in \u001b[0;36mLokyBackend.wrap_future_result\u001b[0;34m(future, timeout)\u001b[0m\n\u001b[1;32m    564\u001b[0m \u001b[39m\u001b[39m\u001b[39m\"\"\"Wrapper for Future.result to implement the same behaviour as\u001b[39;00m\n\u001b[1;32m    565\u001b[0m \u001b[39mAsyncResults.get from multiprocessing.\"\"\"\u001b[39;00m\n\u001b[1;32m    566\u001b[0m \u001b[39mtry\u001b[39;00m:\n\u001b[0;32m--> 567\u001b[0m     \u001b[39mreturn\u001b[39;00m future\u001b[39m.\u001b[39;49mresult(timeout\u001b[39m=\u001b[39;49mtimeout)\n\u001b[1;32m    568\u001b[0m \u001b[39mexcept\u001b[39;00m CfTimeoutError \u001b[39mas\u001b[39;00m e:\n\u001b[1;32m    569\u001b[0m     \u001b[39mraise\u001b[39;00m \u001b[39mTimeoutError\u001b[39;00m \u001b[39mfrom\u001b[39;00m \u001b[39me\u001b[39;00m\n",
            "File \u001b[0;32m/usr/lib/python3.10/concurrent/futures/_base.py:453\u001b[0m, in \u001b[0;36mFuture.result\u001b[0;34m(self, timeout)\u001b[0m\n\u001b[1;32m    450\u001b[0m \u001b[39melif\u001b[39;00m \u001b[39mself\u001b[39m\u001b[39m.\u001b[39m_state \u001b[39m==\u001b[39m FINISHED:\n\u001b[1;32m    451\u001b[0m     \u001b[39mreturn\u001b[39;00m \u001b[39mself\u001b[39m\u001b[39m.\u001b[39m__get_result()\n\u001b[0;32m--> 453\u001b[0m \u001b[39mself\u001b[39;49m\u001b[39m.\u001b[39;49m_condition\u001b[39m.\u001b[39;49mwait(timeout)\n\u001b[1;32m    455\u001b[0m \u001b[39mif\u001b[39;00m \u001b[39mself\u001b[39m\u001b[39m.\u001b[39m_state \u001b[39min\u001b[39;00m [CANCELLED, CANCELLED_AND_NOTIFIED]:\n\u001b[1;32m    456\u001b[0m     \u001b[39mraise\u001b[39;00m CancelledError()\n",
            "File \u001b[0;32m/usr/lib/python3.10/threading.py:320\u001b[0m, in \u001b[0;36mCondition.wait\u001b[0;34m(self, timeout)\u001b[0m\n\u001b[1;32m    318\u001b[0m \u001b[39mtry\u001b[39;00m:    \u001b[39m# restore state no matter what (e.g., KeyboardInterrupt)\u001b[39;00m\n\u001b[1;32m    319\u001b[0m     \u001b[39mif\u001b[39;00m timeout \u001b[39mis\u001b[39;00m \u001b[39mNone\u001b[39;00m:\n\u001b[0;32m--> 320\u001b[0m         waiter\u001b[39m.\u001b[39;49macquire()\n\u001b[1;32m    321\u001b[0m         gotit \u001b[39m=\u001b[39m \u001b[39mTrue\u001b[39;00m\n\u001b[1;32m    322\u001b[0m     \u001b[39melse\u001b[39;00m:\n",
            "\u001b[0;31mKeyboardInterrupt\u001b[0m: "
          ]
        }
      ],
      "source": [
        "'''\n",
        "- 3 datasets\n",
        "- entradas: I_target, O_target, I_error, O_error\n",
        "- salidas: errores de theta\n",
        "'''\n",
        "from sklearn.model_selection import GridSearchCV\n",
        "\n",
        "params = {'activation': ['relu', 'tanh', 'logistic'],\n",
        "          'hidden_layer_sizes': [(50,50,50,50), (50,75,100,125), (100,100,100,100)],\n",
        "          'solver': ['adam', 'sgd'],\n",
        "          'learning_rate' : ['constant', 'adaptive']\n",
        "         }\n",
        "\n",
        "mlp_regressor_grid = GridSearchCV(MLPRegressor(random_state=123), param_grid=params, n_jobs=-1, cv=5, verbose=5)\n",
        "mlp_regressor_grid.fit(X_train,y_train)\n",
        "\n",
        "print('Train Accuracy : %.3f'%mlp_regressor_grid.best_estimator_.score(X_train, y_train))\n",
        "print('Test Accuracy : %.3f'%mlp_regressor_grid.best_estimator_.score(X_test, y_test))\n",
        "print('Best Accuracy Through Grid Search : %.3f'%mlp_regressor_grid.best_score_)\n",
        "print('Best Parameters : ',mlp_regressor_grid.best_params_)"
      ]
    },
    {
      "cell_type": "code",
      "execution_count": 15,
      "metadata": {
        "colab": {
          "base_uri": "https://localhost:8080/",
          "height": 139
        },
        "id": "wVzHaJz2xQsY",
        "outputId": "5eaaddf9-b3b5-4666-fe4a-a8e53d10f345"
      },
      "outputs": [
        {
          "name": "stdout",
          "output_type": "stream",
          "text": [
            "0.7543810032966064\n"
          ]
        },
        {
          "name": "stderr",
          "output_type": "stream",
          "text": [
            "/home/sofia/.local/lib/python3.10/site-packages/sklearn/neural_network/_multilayer_perceptron.py:692: ConvergenceWarning: Stochastic Optimizer: Maximum iterations (10) reached and the optimization hasn't converged yet.\n",
            "  warnings.warn(\n"
          ]
        },
        {
          "data": {
            "text/plain": [
              "\"\\nwhile True:\\n  i += 1\\n  X_train, X_test, y_train, y_test = train_test_split(X, Y, test_size=0.3, random_state=0)\\n  model = MLPRegressor(activation='logistic', hidden_layer_sizes=(5,5,5), max_iter=600)\\n  model.fit(X_train.values, y_train)\\n  print(model.score(X_test, y_test))\\n  #plt.scatter(X_train, y_train.iloc[:,:2], color = 'orange', label = 'Training Set' if i == 1 else '')\\n  #plt.scatter(X_test, y_test.iloc[:,:2], color = 'green', label = 'Test Set' if i == 1 else '')\\n  #plt.scatter(X, model.predict(X)[:,:2], label = 'Iteration' + str(i))\\n  if model.score(X_test, y_test) > 0.9:\\n    break\\n\\nplt.xlabel('')\\nplt.ylabel('')\\nplt.legend(loc = 'lower right')\\nplt.show()\\n\""
            ]
          },
          "execution_count": 15,
          "metadata": {},
          "output_type": "execute_result"
        }
      ],
      "source": [
        "\n",
        "model2 = MLPRegressor(activation='relu', \n",
        "                      hidden_layer_sizes=(50,75,100,125), \n",
        "                      learning_rate ='constant', \n",
        "                      solver = 'adam', \n",
        "                      max_iter=10)\n",
        "\n",
        "model2.fit(X_train, y_train)\n",
        "print(model2.score(X_test, y_test))\n",
        "\n",
        "'''\n",
        "while True:\n",
        "  i += 1\n",
        "  X_train, X_test, y_train, y_test = train_test_split(X, Y, test_size=0.3, random_state=0)\n",
        "  model = MLPRegressor(activation='logistic', hidden_layer_sizes=(5,5,5), max_iter=600)\n",
        "  model.fit(X_train.values, y_train)\n",
        "  print(model.score(X_test, y_test))\n",
        "  #plt.scatter(X_train, y_train.iloc[:,:2], color = 'orange', label = 'Training Set' if i == 1 else '')\n",
        "  #plt.scatter(X_test, y_test.iloc[:,:2], color = 'green', label = 'Test Set' if i == 1 else '')\n",
        "  #plt.scatter(X, model.predict(X)[:,:2], label = 'Iteration' + str(i))\n",
        "  if model.score(X_test, y_test) > 0.9:\n",
        "    break\n",
        "\n",
        "plt.xlabel('')\n",
        "plt.ylabel('')\n",
        "plt.legend(loc = 'lower right')\n",
        "plt.show()\n",
        "'''"
      ]
    },
    {
      "cell_type": "code",
      "execution_count": 294,
      "metadata": {},
      "outputs": [],
      "source": [
        "values_to_predict = np.array([20, 145, 4, 5]).reshape(-1,1)"
      ]
    },
    {
      "cell_type": "code",
      "execution_count": 305,
      "metadata": {},
      "outputs": [],
      "source": [
        "values_to_predict_trans = StandardScaler().fit_transform(values_to_predict)\n",
        "values_to_predict_trans_ad = (values_to_predict_trans * std_motors + mean_motors).reshape(1,-1)"
      ]
    },
    {
      "cell_type": "code",
      "execution_count": 299,
      "metadata": {},
      "outputs": [
        {
          "data": {
            "text/plain": [
              "array([[-0.39869182],\n",
              "       [ 1.72200937],\n",
              "       [-0.67014158],\n",
              "       [-0.65317597]])"
            ]
          },
          "execution_count": 299,
          "metadata": {},
          "output_type": "execute_result"
        }
      ],
      "source": [
        "values_to_predict_trans_ad\n",
        "values_to_predict_trans"
      ]
    },
    {
      "cell_type": "code",
      "execution_count": 269,
      "metadata": {},
      "outputs": [],
      "source": [
        "#values_to_predict = np.array(values_to_predict)"
      ]
    },
    {
      "cell_type": "code",
      "execution_count": 270,
      "metadata": {},
      "outputs": [],
      "source": [
        "#values_to_predict = values_to_predict.flatten() "
      ]
    },
    {
      "cell_type": "code",
      "execution_count": 259,
      "metadata": {},
      "outputs": [],
      "source": [
        "#values_to_predict = [[math.radians(i) for i in values_to_predict]]"
      ]
    },
    {
      "cell_type": "code",
      "execution_count": 306,
      "metadata": {},
      "outputs": [
        {
          "name": "stderr",
          "output_type": "stream",
          "text": [
            "/home/sofia/.local/lib/python3.10/site-packages/sklearn/base.py:450: UserWarning: X does not have valid feature names, but MLPRegressor was fitted with feature names\n",
            "  warnings.warn(\n"
          ]
        },
        {
          "data": {
            "text/plain": [
              "array([[ 0.10535504, -0.16885657,  0.01723414]])"
            ]
          },
          "execution_count": 306,
          "metadata": {},
          "output_type": "execute_result"
        }
      ],
      "source": [
        "model2.predict(values_to_predict_trans_ad)"
      ]
    },
    {
      "cell_type": "code",
      "execution_count": 307,
      "metadata": {},
      "outputs": [
        {
          "data": {
            "text/plain": [
              "['/home/sofia/SOFIA_Python/ml/TFM/trained_error_motors_MASTER_V7.pkl']"
            ]
          },
          "execution_count": 307,
          "metadata": {},
          "output_type": "execute_result"
        }
      ],
      "source": [
        "import joblib  \n",
        "joblib.dump(model2, '/home/sofia/SOFIA_Python/ml/TFM/trained_error_motors_MASTER_V7.pkl') # with the I,O,I_error and O_error normalized with mu and std motors errors"
      ]
    },
    {
      "attachments": {},
      "cell_type": "markdown",
      "metadata": {},
      "source": [
        "### MLP Motor 1"
      ]
    },
    {
      "cell_type": "code",
      "execution_count": 129,
      "metadata": {},
      "outputs": [],
      "source": [
        "X_motor1 = data_model.iloc[:,:4]\n",
        "y_motor1 = data_model.iloc[:,4]"
      ]
    },
    {
      "cell_type": "code",
      "execution_count": 1,
      "metadata": {},
      "outputs": [],
      "source": [
        "\n",
        "X_motor1, y_motor1 = shuffle(X_motor1, y_motor1, random_state=13)\n",
        "X_train_motor1, X_test_motor1, y_train_motor1, y_test_motor1 = train_test_split(X_motor1, y_motor1, test_size=0.3, random_state=0)\n",
        "\n",
        "\n",
        "scaler_x_motor1 = Normalizer().fit(X_motor1)\n",
        "\n",
        "X_train_norm_motor1 = scaler_x_motor1.fit_transform(X_train_motor1)\n",
        "X_test_norm_motor1 = scaler_x_motor1.transform(X_test_motor1)\n",
        "\n",
        "# y_train_norm = scaler_y.transform(y_train_motor1)\n",
        "# y_test_norm = scaler_y.transform(y_test)"
      ]
    },
    {
      "cell_type": "code",
      "execution_count": 131,
      "metadata": {},
      "outputs": [
        {
          "name": "stdout",
          "output_type": "stream",
          "text": [
            "0.8948250353958154\n"
          ]
        },
        {
          "data": {
            "text/plain": [
              "\"\\nwhile True:\\n  i += 1\\n  X_train, X_test, y_train, y_test = train_test_split(X, Y, test_size=0.3, random_state=0)\\n  model = MLPRegressor(activation='logistic', hidden_layer_sizes=(5,5,5), max_iter=600)\\n  model.fit(X_train.values, y_train)\\n  print(model.score(X_test, y_test))\\n  #plt.scatter(X_train, y_train.iloc[:,:2], color = 'orange', label = 'Training Set' if i == 1 else '')\\n  #plt.scatter(X_test, y_test.iloc[:,:2], color = 'green', label = 'Test Set' if i == 1 else '')\\n  #plt.scatter(X, model.predict(X)[:,:2], label = 'Iteration' + str(i))\\n  if model.score(X_test, y_test) > 0.9:\\n    break\\n\\nplt.xlabel('')\\nplt.ylabel('')\\nplt.legend(loc = 'lower right')\\nplt.show()\\n\""
            ]
          },
          "execution_count": 131,
          "metadata": {},
          "output_type": "execute_result"
        }
      ],
      "source": [
        "\n",
        "model_motor1= MLPRegressor(activation='relu', \n",
        "                      hidden_layer_sizes=(100, 100, 100, 100), \n",
        "                      learning_rate ='constant', \n",
        "                      solver = 'adam', \n",
        "                      max_iter=1000)\n",
        "\n",
        "model_motor1.fit(X_train_norm_motor1, y_train_motor1)\n",
        "print(model_motor1.score(X_test_norm_motor1, y_test_motor1))\n",
        "\n",
        "'''\n",
        "while True:\n",
        "  i += 1\n",
        "  X_train, X_test, y_train, y_test = train_test_split(X, Y, test_size=0.3, random_state=0)\n",
        "  model = MLPRegressor(activation='logistic', hidden_layer_sizes=(5,5,5), max_iter=600)\n",
        "  model.fit(X_train.values, y_train)\n",
        "  print(model.score(X_test, y_test))\n",
        "  #plt.scatter(X_train, y_train.iloc[:,:2], color = 'orange', label = 'Training Set' if i == 1 else '')\n",
        "  #plt.scatter(X_test, y_test.iloc[:,:2], color = 'green', label = 'Test Set' if i == 1 else '')\n",
        "  #plt.scatter(X, model.predict(X)[:,:2], label = 'Iteration' + str(i))\n",
        "  if model.score(X_test, y_test) > 0.9:\n",
        "    break\n",
        "\n",
        "plt.xlabel('')\n",
        "plt.ylabel('')\n",
        "plt.legend(loc = 'lower right')\n",
        "plt.show()\n",
        "'''"
      ]
    },
    {
      "cell_type": "code",
      "execution_count": 132,
      "metadata": {},
      "outputs": [],
      "source": [
        "values_to_predict = [[20, 145, 4, 5]]"
      ]
    },
    {
      "cell_type": "code",
      "execution_count": 133,
      "metadata": {},
      "outputs": [],
      "source": [
        "values_to_predict = np.array(values_to_predict)"
      ]
    },
    {
      "cell_type": "code",
      "execution_count": 134,
      "metadata": {},
      "outputs": [
        {
          "name": "stderr",
          "output_type": "stream",
          "text": [
            "/home/sofia/.local/lib/python3.10/site-packages/sklearn/base.py:450: UserWarning: X does not have valid feature names, but Normalizer was fitted with feature names\n",
            "  warnings.warn(\n"
          ]
        },
        {
          "data": {
            "text/plain": [
              "1"
            ]
          },
          "execution_count": 134,
          "metadata": {},
          "output_type": "execute_result"
        }
      ],
      "source": [
        "values_to_predict = scaler_x_motor1.transform(values_to_predict)\n",
        "len(values_to_predict)"
      ]
    },
    {
      "cell_type": "code",
      "execution_count": 135,
      "metadata": {
        "colab": {
          "base_uri": "https://localhost:8080/"
        },
        "id": "bIB0-uVZ_QJl",
        "outputId": "1738a0bd-c201-40c2-f740-c4dc59d1b43b"
      },
      "outputs": [
        {
          "data": {
            "text/plain": [
              "array([-0.54019809])"
            ]
          },
          "execution_count": 135,
          "metadata": {},
          "output_type": "execute_result"
        }
      ],
      "source": [
        "model_motor1.predict(values_to_predict)"
      ]
    },
    {
      "cell_type": "code",
      "execution_count": 119,
      "metadata": {},
      "outputs": [
        {
          "data": {
            "text/plain": [
              "array([19.43728144])"
            ]
          },
          "execution_count": 119,
          "metadata": {},
          "output_type": "execute_result"
        }
      ],
      "source": [
        "model_motor1.predict([[20, 145, 4, 6]])"
      ]
    },
    {
      "attachments": {},
      "cell_type": "markdown",
      "metadata": {},
      "source": [
        "### MLP Motor 2"
      ]
    },
    {
      "cell_type": "code",
      "execution_count": 136,
      "metadata": {},
      "outputs": [],
      "source": [
        "X_motor2 = data_model.iloc[:,:4]\n",
        "y_motor2 = data_model.iloc[:,4]"
      ]
    },
    {
      "cell_type": "code",
      "execution_count": 137,
      "metadata": {},
      "outputs": [],
      "source": [
        "\n",
        "X_motor2, y_motor2 = shuffle(X_motor2, y_motor2, random_state=13)\n",
        "X_train_motor2, X_test_motor2, y_train_motor2, y_test_motor2 = train_test_split(X_motor2, y_motor2, test_size=0.3, random_state=0)\n",
        "\n",
        "\n",
        "scaler_x_motor2 = 87().fit(X_motor2)\n",
        "\n",
        "X_train_norm_motor2 = scaler_x_motor2.fit_transform(X_train_motor2)\n",
        "X_test_norm_motor2 = scaler_x_motor2.transform(X_test_motor2)\n",
        "\n",
        "# y_train_norm = scaler_y.transform(y_train_motor1)\n",
        "# y_test_norm = scaler_y.transform(y_test)"
      ]
    },
    {
      "cell_type": "code",
      "execution_count": 138,
      "metadata": {},
      "outputs": [
        {
          "name": "stdout",
          "output_type": "stream",
          "text": [
            "0.9118232878036288\n"
          ]
        },
        {
          "data": {
            "text/plain": [
              "\"\\nwhile True:\\n  i += 1\\n  X_train, X_test, y_train, y_test = train_test_split(X, Y, test_size=0.3, random_state=0)\\n  model = MLPRegressor(activation='logistic', hidden_layer_sizes=(5,5,5), max_iter=600)\\n  model.fit(X_train.values, y_train)\\n  print(model.score(X_test, y_test))\\n  #plt.scatter(X_train, y_train.iloc[:,:2], color = 'orange', label = 'Training Set' if i == 1 else '')\\n  #plt.scatter(X_test, y_test.iloc[:,:2], color = 'green', label = 'Test Set' if i == 1 else '')\\n  #plt.scatter(X, model.predict(X)[:,:2], label = 'Iteration' + str(i))\\n  if model.score(X_test, y_test) > 0.9:\\n    break\\n\\nplt.xlabel('')\\nplt.ylabel('')\\nplt.legend(loc = 'lower right')\\nplt.show()\\n\""
            ]
          },
          "execution_count": 138,
          "metadata": {},
          "output_type": "execute_result"
        }
      ],
      "source": [
        "\n",
        "model_motor2= MLPRegressor(activation='relu', \n",
        "                      hidden_layer_sizes=(100, 100, 100, 100), \n",
        "                      learning_rate ='constant', \n",
        "                      solver = 'adam', \n",
        "                      max_iter=1000)\n",
        "\n",
        "model_motor2.fit(X_train_norm_motor2, y_train_motor2)\n",
        "print(model_motor2.score(X_test_norm_motor2, y_test_motor2))\n",
        "\n",
        "'''\n",
        "while True:\n",
        "  i += 1\n",
        "  X_train, X_test, y_train, y_test = train_test_split(X, Y, test_size=0.3, random_state=0)\n",
        "  model = MLPRegressor(activation='logistic', hidden_layer_sizes=(5,5,5), max_iter=600)\n",
        "  model.fit(X_train.values, y_train)\n",
        "  print(model.score(X_test, y_test))\n",
        "  #plt.scatter(X_train, y_train.iloc[:,:2], color = 'orange', label = 'Training Set' if i == 1 else '')\n",
        "  #plt.scatter(X_test, y_test.iloc[:,:2], color = 'green', label = 'Test Set' if i == 1 else '')\n",
        "  #plt.scatter(X, model.predict(X)[:,:2], label = 'Iteration' + str(i))\n",
        "  if model.score(X_test, y_test) > 0.9:\n",
        "    break\n",
        "\n",
        "plt.xlabel('')\n",
        "plt.ylabel('')\n",
        "plt.legend(loc = 'lower right')\n",
        "plt.show()\n",
        "'''"
      ]
    },
    {
      "cell_type": "code",
      "execution_count": 139,
      "metadata": {},
      "outputs": [],
      "source": [
        "values_to_predict = [[20, 145, 4, 5]]"
      ]
    },
    {
      "cell_type": "code",
      "execution_count": 140,
      "metadata": {},
      "outputs": [],
      "source": [
        "values_to_predict = np.array(values_to_predict)"
      ]
    },
    {
      "cell_type": "code",
      "execution_count": 141,
      "metadata": {},
      "outputs": [
        {
          "name": "stderr",
          "output_type": "stream",
          "text": [
            "/home/sofia/.local/lib/python3.10/site-packages/sklearn/base.py:450: UserWarning: X does not have valid feature names, but Normalizer was fitted with feature names\n",
            "  warnings.warn(\n"
          ]
        },
        {
          "data": {
            "text/plain": [
              "1"
            ]
          },
          "execution_count": 141,
          "metadata": {},
          "output_type": "execute_result"
        }
      ],
      "source": [
        "values_to_predict = scaler_x_motor2.transform(values_to_predict)\n",
        "len(values_to_predict)"
      ]
    },
    {
      "cell_type": "code",
      "execution_count": 142,
      "metadata": {},
      "outputs": [
        {
          "data": {
            "text/plain": [
              "array([-0.60284006])"
            ]
          },
          "execution_count": 142,
          "metadata": {},
          "output_type": "execute_result"
        }
      ],
      "source": [
        "model_motor2.predict(values_to_predict)"
      ]
    },
    {
      "cell_type": "code",
      "execution_count": 143,
      "metadata": {},
      "outputs": [
        {
          "data": {
            "text/plain": [
              "array([12.26499602])"
            ]
          },
          "execution_count": 143,
          "metadata": {},
          "output_type": "execute_result"
        }
      ],
      "source": [
        "model_motor2.predict([[20, 145, 4, 6]])"
      ]
    },
    {
      "cell_type": "code",
      "execution_count": 144,
      "metadata": {},
      "outputs": [
        {
          "data": {
            "text/plain": [
              "['/home/sofia/SOFIA_Python/ml/TFM/trained_error_motors_MASTER_V5_motor2.pkl']"
            ]
          },
          "execution_count": 144,
          "metadata": {},
          "output_type": "execute_result"
        }
      ],
      "source": [
        "# Saving the model\n",
        "import joblib  \n",
        "joblib.dump(model_motor2, '/home/sofia/SOFIA_Python/ml/TFM/trained_error_motors_MASTER_V5_motor2.pkl')"
      ]
    },
    {
      "attachments": {},
      "cell_type": "markdown",
      "metadata": {},
      "source": [
        "### MLP Motor 3"
      ]
    },
    {
      "cell_type": "code",
      "execution_count": 145,
      "metadata": {},
      "outputs": [],
      "source": [
        "X_motor3 = data_model.iloc[:,:4]\n",
        "y_motor3 = data_model.iloc[:,4]"
      ]
    },
    {
      "cell_type": "code",
      "execution_count": 146,
      "metadata": {},
      "outputs": [],
      "source": [
        "\n",
        "X_motor3, y_motor3 = shuffle(X_motor3, y_motor3, random_state=13)\n",
        "X_train_motor3, X_test_motor3, y_train_motor3, y_test_motor3 = train_test_split(X_motor3, y_motor3, test_size=0.3, random_state=0)\n",
        "\n",
        "\n",
        "scaler_x_motor3 = Normalizer().fit(X_motor3)\n",
        "\n",
        "X_train_norm_motor3 = scaler_x_motor3.fit_transform(X_train_motor3)\n",
        "X_test_norm_motor3 = scaler_x_motor3.transform(X_test_motor3)\n",
        "\n",
        "# y_train_norm = scaler_y.transform(y_train_motor1)\n",
        "# y_test_norm = scaler_y.transform(y_test)"
      ]
    },
    {
      "cell_type": "code",
      "execution_count": 147,
      "metadata": {},
      "outputs": [
        {
          "name": "stdout",
          "output_type": "stream",
          "text": [
            "0.890615261023293\n"
          ]
        },
        {
          "data": {
            "text/plain": [
              "\"\\nwhile True:\\n  i += 1\\n  X_train, X_test, y_train, y_test = train_test_split(X, Y, test_size=0.3, random_state=0)\\n  model = MLPRegressor(activation='logistic', hidden_layer_sizes=(5,5,5), max_iter=600)\\n  model.fit(X_train.values, y_train)\\n  print(model.score(X_test, y_test))\\n  #plt.scatter(X_train, y_train.iloc[:,:2], color = 'orange', label = 'Training Set' if i == 1 else '')\\n  #plt.scatter(X_test, y_test.iloc[:,:2], color = 'green', label = 'Test Set' if i == 1 else '')\\n  #plt.scatter(X, model.predict(X)[:,:2], label = 'Iteration' + str(i))\\n  if model.score(X_test, y_test) > 0.9:\\n    break\\n\\nplt.xlabel('')\\nplt.ylabel('')\\nplt.legend(loc = 'lower right')\\nplt.show()\\n\""
            ]
          },
          "execution_count": 147,
          "metadata": {},
          "output_type": "execute_result"
        }
      ],
      "source": [
        "\n",
        "model_motor3= MLPRegressor(activation='relu', \n",
        "                      hidden_layer_sizes=(100, 100, 100, 100), \n",
        "                      learning_rate ='constant', \n",
        "                      solver = 'adam', \n",
        "                      max_iter=1000)\n",
        "\n",
        "model_motor3.fit(X_train_norm_motor3, y_train_motor3)\n",
        "print(model_motor3.score(X_test_norm_motor3, y_test_motor3))\n",
        "\n",
        "'''\n",
        "while True:\n",
        "  i += 1\n",
        "  X_train, X_test, y_train, y_test = train_test_split(X, Y, test_size=0.3, random_state=0)\n",
        "  model = MLPRegressor(activation='logistic', hidden_layer_sizes=(5,5,5), max_iter=600)\n",
        "  model.fit(X_train.values, y_train)\n",
        "  print(model.score(X_test, y_test))\n",
        "  #plt.scatter(X_train, y_train.iloc[:,:2], color = 'orange', label = 'Training Set' if i == 1 else '')\n",
        "  #plt.scatter(X_test, y_test.iloc[:,:2], color = 'green', label = 'Test Set' if i == 1 else '')\n",
        "  #plt.scatter(X, model.predict(X)[:,:2], label = 'Iteration' + str(i))\n",
        "  if model.score(X_test, y_test) > 0.9:\n",
        "    break\n",
        "\n",
        "plt.xlabel('')\n",
        "plt.ylabel('')\n",
        "plt.legend(loc = 'lower right')\n",
        "plt.show()\n",
        "'''"
      ]
    },
    {
      "cell_type": "code",
      "execution_count": 148,
      "metadata": {},
      "outputs": [],
      "source": [
        "values_to_predict = [[20, 145, 4, 5]]"
      ]
    },
    {
      "cell_type": "code",
      "execution_count": 149,
      "metadata": {},
      "outputs": [],
      "source": [
        "values_to_predict = np.array(values_to_predict)"
      ]
    },
    {
      "cell_type": "code",
      "execution_count": 150,
      "metadata": {},
      "outputs": [
        {
          "name": "stderr",
          "output_type": "stream",
          "text": [
            "/home/sofia/.local/lib/python3.10/site-packages/sklearn/base.py:450: UserWarning: X does not have valid feature names, but Normalizer was fitted with feature names\n",
            "  warnings.warn(\n"
          ]
        },
        {
          "data": {
            "text/plain": [
              "1"
            ]
          },
          "execution_count": 150,
          "metadata": {},
          "output_type": "execute_result"
        }
      ],
      "source": [
        "values_to_predict = scaler_x_motor3.transform(values_to_predict)\n",
        "len(values_to_predict)"
      ]
    },
    {
      "cell_type": "code",
      "execution_count": 151,
      "metadata": {},
      "outputs": [
        {
          "data": {
            "text/plain": [
              "array([-0.52120549])"
            ]
          },
          "execution_count": 151,
          "metadata": {},
          "output_type": "execute_result"
        }
      ],
      "source": [
        "model_motor3.predict(values_to_predict)"
      ]
    },
    {
      "cell_type": "code",
      "execution_count": 153,
      "metadata": {},
      "outputs": [
        {
          "data": {
            "text/plain": [
              "array([-3.91502226])"
            ]
          },
          "execution_count": 153,
          "metadata": {},
          "output_type": "execute_result"
        }
      ],
      "source": [
        "model_motor3.predict([[20, 145, 4, 6]])"
      ]
    },
    {
      "cell_type": "code",
      "execution_count": 154,
      "metadata": {},
      "outputs": [
        {
          "data": {
            "text/plain": [
              "['/home/sofia/SOFIA_Python/ml/TFM/trained_error_motors_MASTER_V5_motor3.pkl']"
            ]
          },
          "execution_count": 154,
          "metadata": {},
          "output_type": "execute_result"
        }
      ],
      "source": [
        "# Saving the model\n",
        "import joblib  \n",
        "joblib.dump(model_motor2, '/home/sofia/SOFIA_Python/ml/TFM/trained_error_motors_MASTER_V5_motor3.pkl')"
      ]
    }
  ],
  "metadata": {
    "colab": {
      "provenance": []
    },
    "kernelspec": {
      "display_name": "Python 3",
      "language": "python",
      "name": "python3"
    },
    "language_info": {
      "codemirror_mode": {
        "name": "ipython",
        "version": 3
      },
      "file_extension": ".py",
      "mimetype": "text/x-python",
      "name": "python",
      "nbconvert_exporter": "python",
      "pygments_lexer": "ipython3",
      "version": "3.10.6"
    },
    "vscode": {
      "interpreter": {
        "hash": "916dbcbb3f70747c44a77c7bcd40155683ae19c65e1c03b4aa3499c5328201f1"
      }
    }
  },
  "nbformat": 4,
  "nbformat_minor": 0
}
